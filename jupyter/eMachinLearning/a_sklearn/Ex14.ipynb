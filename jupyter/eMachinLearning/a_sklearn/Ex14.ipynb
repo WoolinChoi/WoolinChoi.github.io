{
 "cells": [
  {
   "cell_type": "code",
   "execution_count": 3,
   "metadata": {},
   "outputs": [
    {
     "name": "stdout",
     "output_type": "stream",
     "text": [
      "    국어점수  영어점수\n",
      "0     90    80\n",
      "1     90    75\n",
      "2     90    90\n",
      "3     80    20\n",
      "4     80    30\n",
      "5     80    30\n",
      "6     77    40\n",
      "7     77    60\n",
      "8     40    60\n",
      "9     20    50\n",
      "10    30    80\n",
      "11    30    80\n",
      "12    40    77\n",
      "13    60    77\n",
      "14    20    40\n",
      "15    75    75\n",
      "16    80    90\n",
      "17    75    90\n",
      "18    90    90\n",
      "19    20    80\n",
      "20    30    80\n",
      "21    30    80\n",
      "22    40    77\n",
      "23    60    77\n",
      "24    80    40\n",
      "25    75    20\n",
      "26    90    30\n",
      "27    20    30\n",
      "28    30    40\n",
      "29    30    60\n",
      "30    40    20\n",
      "31    60    75\n",
      "클러스터 레이블 [2 2 2 0 0 0 0 2 1 1 1 1 1 2 1 2 2 2 2 1 1 1 1 2 0 0 0 1 1 1 0 2]\n"
     ]
    },
    {
     "data": {
      "image/png": "[encoded data removed]",
      "text/plain": [
       "<Figure size 432x288 with 1 Axes>"
      ]
     },
     "metadata": {
      "needs_background": "light"
     },
     "output_type": "display_data"
    },
    {
     "name": "stdout",
     "output_type": "stream",
     "text": [
      "[2]\n"
     ]
    }
   ],
   "source": [
    "import mglearn\n",
    "import pandas as pd \n",
    "from sklearn.cluster import KMeans\n",
    "import matplotlib.pyplot as plt\n",
    "import matplotlib\n",
    "from matplotlib import font_manager, rc\n",
    "%matplotlib inline\n",
    "\n",
    "font_location = 'c:/Windows/fonts/malgun.ttf'\n",
    "font_name = font_manager.FontProperties(fname=font_location).get_name()\n",
    "matplotlib.rc('font', family=font_name)\n",
    "\n",
    "data = pd.read_csv('data/Ex14_academy.csv')\n",
    "print(data.iloc[:, 1:])\n",
    " \n",
    "# 군집 모델을 만듭니다\n",
    "kmeans = KMeans(n_clusters=3)\n",
    "kmeans.fit(data.iloc[:, 1:])\n",
    "\n",
    "print('클러스터 레이블', kmeans.labels_) \n",
    "\n",
    "mglearn.discrete_scatter(data.iloc[:,1], data.iloc[:,2], kmeans.labels_)\n",
    "plt.legend(['cluster 0', 'cluster 1', 'cluster 2'], loc='best')\n",
    "plt.xlabel('국어점수')\n",
    "plt.ylabel('영어점수')\n",
    "plt.show()\n",
    "\n",
    "# 국어점수 100, 영어점수 80 인 새로운 학생이 입학하였습니다. \n",
    "# 이 학생은 몇번 클러스터에 포함되어야 합니까?  \n",
    "print(kmeans.predict([[100, 80]])) \n",
    "plt.show()"
   ]
  }
 ],
 "metadata": {
  "kernelspec": {
   "display_name": "Python 3",
   "language": "python",
   "name": "python3"
  },
  "language_info": {
   "codemirror_mode": {
    "name": "ipython",
    "version": 3
   },
   "file_extension": ".py",
   "mimetype": "text/x-python",
   "name": "python",
   "nbconvert_exporter": "python",
   "pygments_lexer": "ipython3",
   "version": "3.7.3"
  }
 },
 "nbformat": 4,
 "nbformat_minor": 2
}
