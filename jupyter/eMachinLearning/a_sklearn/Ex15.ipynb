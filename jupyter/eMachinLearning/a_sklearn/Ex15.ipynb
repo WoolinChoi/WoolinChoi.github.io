{
 "cells": [
  {
   "cell_type": "code",
   "execution_count": 3,
   "metadata": {},
   "outputs": [
    {
     "name": "stdout",
     "output_type": "stream",
     "text": [
      "학생번호: 0 : 2\n",
      "학생번호: 1 : 2\n",
      "학생번호: 2 : 0\n",
      "학생번호: 3 : 2\n",
      "학생번호: 4 : 2\n",
      "학생번호: 5 : 0\n",
      "학생번호: 6 : 2\n",
      "학생번호: 7 : 2\n",
      "학생번호: 8 : 0\n",
      "학생번호: 9 : 1\n",
      "학생번호: 10 : 2\n",
      "학생번호: 11 : 0\n",
      "학생번호: 12 : 1\n",
      "학생번호: 13 : 2\n",
      "학생번호: 14 : 0\n",
      "학생번호: 15 : 1\n",
      "학생번호: 16 : 2\n",
      "학생번호: 17 : 0\n",
      "[2]\n"
     ]
    }
   ],
   "source": [
    "import pandas as pd \n",
    "from sklearn.cluster import KMeans\n",
    "\n",
    "data = pd.read_csv('data/ex15_academy.csv')\n",
    "# print(data.iloc[:, 1:])  \n",
    " \n",
    "# 군집 모델을 만듭니다\n",
    "kmeans = KMeans(n_clusters=3)\n",
    "kmeans.fit(data.iloc[:, 1:])  # 학생번호 컬럼은 제외하고 학습 \n",
    " \n",
    "for no, cla in enumerate(kmeans.labels_):\n",
    "    print(\"학생번호: {} : {}\".format(no, cla))\n",
    " \n",
    "# 국어점수 100, 영어점수 80,\n",
    "# 수학점수 70,  과학점수 70, 학업성취도 70\n",
    "# 인 새로운 학생이 입학하였습니다. \n",
    "# 이 학생은 몇번 클러스터에 포함되어야 합니까?  \n",
    "\n",
    "print(kmeans.predict([[100, 80, 70, 70, 70]]))   "
   ]
  }
 ],
 "metadata": {
  "kernelspec": {
   "display_name": "Python 3",
   "language": "python",
   "name": "python3"
  },
  "language_info": {
   "codemirror_mode": {
    "name": "ipython",
    "version": 3
   },
   "file_extension": ".py",
   "mimetype": "text/x-python",
   "name": "python",
   "nbconvert_exporter": "python",
   "pygments_lexer": "ipython3",
   "version": "3.7.3"
  }
 },
 "nbformat": 4,
 "nbformat_minor": 2
}
