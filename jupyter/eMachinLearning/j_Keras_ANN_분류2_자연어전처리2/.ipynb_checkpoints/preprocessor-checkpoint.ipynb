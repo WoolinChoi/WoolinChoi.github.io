{
 "cells": [
  {
   "cell_type": "code",
   "execution_count": 11,
   "metadata": {
    "scrolled": false
   },
   "outputs": [
    {
     "data": {
      "text/html": [
       "<div>\n",
       "<style scoped>\n",
       "    .dataframe tbody tr th:only-of-type {\n",
       "        vertical-align: middle;\n",
       "    }\n",
       "\n",
       "    .dataframe tbody tr th {\n",
       "        vertical-align: top;\n",
       "    }\n",
       "\n",
       "    .dataframe thead th {\n",
       "        text-align: right;\n",
       "    }\n",
       "</style>\n",
       "<table border=\"1\" class=\"dataframe\">\n",
       "  <thead>\n",
       "    <tr style=\"text-align: right;\">\n",
       "      <th></th>\n",
       "      <th>category</th>\n",
       "      <th>company</th>\n",
       "      <th>headline</th>\n",
       "      <th>contents</th>\n",
       "    </tr>\n",
       "  </thead>\n",
       "  <tbody>\n",
       "    <tr>\n",
       "      <th>0</th>\n",
       "      <td>생활문화</td>\n",
       "      <td>머니투데이</td>\n",
       "      <td>피에스타 차오루 과감한 시스루 드레스…볼륨감 아찔</td>\n",
       "      <td>머니투데이 스타일M 김자아 기자 사진 김휘선기자 그룹 피에스타의 멤버 차오루의 과감...</td>\n",
       "    </tr>\n",
       "    <tr>\n",
       "      <th>1</th>\n",
       "      <td>생활문화</td>\n",
       "      <td>노컷뉴스</td>\n",
       "      <td>안태운 시집 감은 눈이 내 얼굴을 …김수영 문학상</td>\n",
       "      <td>CBS노컷뉴스 김영태 기자 제35회 김수영 문학상 수상 시집 감은 눈이 내 얼굴을 ...</td>\n",
       "    </tr>\n",
       "    <tr>\n",
       "      <th>2</th>\n",
       "      <td>생활문화</td>\n",
       "      <td>노컷뉴스</td>\n",
       "      <td>정세훈 노동시집 몸의 중심</td>\n",
       "      <td>CBS노컷뉴스 김영태 기자 정세훈의 여덟 번째 시집 몸의 중심 은 뚜렷한 노동시집이...</td>\n",
       "    </tr>\n",
       "    <tr>\n",
       "      <th>3</th>\n",
       "      <td>생활문화</td>\n",
       "      <td>노컷뉴스</td>\n",
       "      <td>황명걸  저항과 희망의 시심 저희를 사랑하기에</td>\n",
       "      <td>CBS노컷뉴스 김영태 기자 황명걸 시선집 저희를 사랑하기에 내가 . 사회참여와 현실...</td>\n",
       "    </tr>\n",
       "    <tr>\n",
       "      <th>4</th>\n",
       "      <td>생활문화</td>\n",
       "      <td>KBS</td>\n",
       "      <td>내일 미세먼지 농도 ‘나쁨’…한낮 비교적 포근</td>\n",
       "      <td>새해 첫날 잘 보내셨나요 오늘 추위는 누그러졌지만 다시 미세먼지가 고개를 들기 시작...</td>\n",
       "    </tr>\n",
       "  </tbody>\n",
       "</table>\n",
       "</div>"
      ],
      "text/plain": [
       "  category company                     headline  \\\n",
       "0     생활문화   머니투데이  피에스타 차오루 과감한 시스루 드레스…볼륨감 아찔   \n",
       "1     생활문화    노컷뉴스  안태운 시집 감은 눈이 내 얼굴을 …김수영 문학상   \n",
       "2     생활문화    노컷뉴스               정세훈 노동시집 몸의 중심   \n",
       "3     생활문화    노컷뉴스    황명걸  저항과 희망의 시심 저희를 사랑하기에   \n",
       "4     생활문화     KBS    내일 미세먼지 농도 ‘나쁨’…한낮 비교적 포근   \n",
       "\n",
       "                                            contents  \n",
       "0  머니투데이 스타일M 김자아 기자 사진 김휘선기자 그룹 피에스타의 멤버 차오루의 과감...  \n",
       "1  CBS노컷뉴스 김영태 기자 제35회 김수영 문학상 수상 시집 감은 눈이 내 얼굴을 ...  \n",
       "2  CBS노컷뉴스 김영태 기자 정세훈의 여덟 번째 시집 몸의 중심 은 뚜렷한 노동시집이...  \n",
       "3  CBS노컷뉴스 김영태 기자 황명걸 시선집 저희를 사랑하기에 내가 . 사회참여와 현실...  \n",
       "4  새해 첫날 잘 보내셨나요 오늘 추위는 누그러졌지만 다시 미세먼지가 고개를 들기 시작...  "
      ]
     },
     "execution_count": 11,
     "metadata": {},
     "output_type": "execute_result"
    }
   ],
   "source": [
    "import pandas as pd\n",
    "\n",
    "col_names = ['category', 'company', 'headline', 'contents']\n",
    "\n",
    "df = pd.read_csv('data/Article_생활문화_201701_201804.csv', usecols=[1, 2, 3, 4], names=col_names)\n",
    "df.head()"
   ]
  },
  {
   "cell_type": "code",
   "execution_count": 14,
   "metadata": {},
   "outputs": [
    {
     "name": "stdout",
     "output_type": "stream",
     "text": [
      "<class 'pandas.core.frame.DataFrame'>\n",
      "RangeIndex: 8635 entries, 0 to 8634\n",
      "Data columns (total 4 columns):\n",
      "category    8635 non-null object\n",
      "company     8635 non-null object\n",
      "headline    8635 non-null object\n",
      "contents    8635 non-null object\n",
      "dtypes: object(4)\n",
      "memory usage: 269.9+ KB\n"
     ]
    }
   ],
   "source": [
    "df.info()"
   ]
  },
  {
   "cell_type": "code",
   "execution_count": 13,
   "metadata": {},
   "outputs": [
    {
     "data": {
      "text/plain": [
       "(8635, 4)"
      ]
     },
     "execution_count": 13,
     "metadata": {},
     "output_type": "execute_result"
    }
   ],
   "source": [
    "df.shape"
   ]
  },
  {
   "cell_type": "code",
   "execution_count": 15,
   "metadata": {},
   "outputs": [
    {
     "data": {
      "text/html": [
       "<div>\n",
       "<style scoped>\n",
       "    .dataframe tbody tr th:only-of-type {\n",
       "        vertical-align: middle;\n",
       "    }\n",
       "\n",
       "    .dataframe tbody tr th {\n",
       "        vertical-align: top;\n",
       "    }\n",
       "\n",
       "    .dataframe thead th {\n",
       "        text-align: right;\n",
       "    }\n",
       "</style>\n",
       "<table border=\"1\" class=\"dataframe\">\n",
       "  <thead>\n",
       "    <tr style=\"text-align: right;\">\n",
       "      <th></th>\n",
       "      <th>category</th>\n",
       "      <th>company</th>\n",
       "      <th>headline</th>\n",
       "      <th>contents</th>\n",
       "    </tr>\n",
       "  </thead>\n",
       "  <tbody>\n",
       "    <tr>\n",
       "      <th>0</th>\n",
       "      <td>IT과학</td>\n",
       "      <td>YTN</td>\n",
       "      <td>2017년에 펼쳐지는 특별한 우주현상 2가지</td>\n",
       "      <td>앵커 새해 지구촌에는 특이한 우주 현상이 2차례 나타납니다. 4월에는 맨눈으로 볼 ...</td>\n",
       "    </tr>\n",
       "    <tr>\n",
       "      <th>1</th>\n",
       "      <td>IT과학</td>\n",
       "      <td>디지털데일리</td>\n",
       "      <td>DD 주간브리핑 사상 최대 규모로 열리는 CES 2017 에 관심 고조</td>\n",
       "      <td>2017년의 첫 주가 시작됐다. 새해 벽두 건강한 긴장감이 넘친다. 새해 첫 주부터...</td>\n",
       "    </tr>\n",
       "    <tr>\n",
       "      <th>2</th>\n",
       "      <td>IT과학</td>\n",
       "      <td>SBS</td>\n",
       "      <td>최첨단 미래TV 시대 열린다…어떤 서비스 있을까</td>\n",
       "      <td>앵커 올해는 UHD 차세대 초고화질 방송 시대가 열리는 첫해입니다. 시청자들이 어떤...</td>\n",
       "    </tr>\n",
       "    <tr>\n",
       "      <th>3</th>\n",
       "      <td>IT과학</td>\n",
       "      <td>세계일보</td>\n",
       "      <td>심층기획 2020년 우주기술 개발 자립국 대열 합류</td>\n",
       "      <td>세계 최초 인공위성 스푸트니크 발사 60주년 한국 우주개발 역사와 현주소 우주개발 ...</td>\n",
       "    </tr>\n",
       "    <tr>\n",
       "      <th>4</th>\n",
       "      <td>IT과학</td>\n",
       "      <td>세계일보</td>\n",
       "      <td>심층기획 지구 밖으로 쏘아 올린 인간의 꿈… 우주개발 무한경쟁</td>\n",
       "      <td>세계 최초 인공위성 스푸트니크 발사 60주년 우주 알리는 신호탄 1957년 10월4...</td>\n",
       "    </tr>\n",
       "  </tbody>\n",
       "</table>\n",
       "</div>"
      ],
      "text/plain": [
       "  category company                                 headline  \\\n",
       "0     IT과학     YTN                 2017년에 펼쳐지는 특별한 우주현상 2가지   \n",
       "1     IT과학  디지털데일리  DD 주간브리핑 사상 최대 규모로 열리는 CES 2017 에 관심 고조   \n",
       "2     IT과학     SBS               최첨단 미래TV 시대 열린다…어떤 서비스 있을까   \n",
       "3     IT과학    세계일보             심층기획 2020년 우주기술 개발 자립국 대열 합류   \n",
       "4     IT과학    세계일보       심층기획 지구 밖으로 쏘아 올린 인간의 꿈… 우주개발 무한경쟁   \n",
       "\n",
       "                                            contents  \n",
       "0  앵커 새해 지구촌에는 특이한 우주 현상이 2차례 나타납니다. 4월에는 맨눈으로 볼 ...  \n",
       "1  2017년의 첫 주가 시작됐다. 새해 벽두 건강한 긴장감이 넘친다. 새해 첫 주부터...  \n",
       "2  앵커 올해는 UHD 차세대 초고화질 방송 시대가 열리는 첫해입니다. 시청자들이 어떤...  \n",
       "3  세계 최초 인공위성 스푸트니크 발사 60주년 한국 우주개발 역사와 현주소 우주개발 ...  \n",
       "4  세계 최초 인공위성 스푸트니크 발사 60주년 우주 알리는 신호탄 1957년 10월4...  "
      ]
     },
     "execution_count": 15,
     "metadata": {},
     "output_type": "execute_result"
    }
   ],
   "source": [
    "df2 = pd.read_csv('data/Article_IT과학_201701_201804.csv', usecols=[1, 2, 3, 4], names=col_names)\n",
    "df2.head()"
   ]
  },
  {
   "cell_type": "code",
   "execution_count": 16,
   "metadata": {},
   "outputs": [
    {
     "name": "stdout",
     "output_type": "stream",
     "text": [
      "<class 'pandas.core.frame.DataFrame'>\n",
      "RangeIndex: 8202 entries, 0 to 8201\n",
      "Data columns (total 4 columns):\n",
      "category    8202 non-null object\n",
      "company     8202 non-null object\n",
      "headline    8202 non-null object\n",
      "contents    8202 non-null object\n",
      "dtypes: object(4)\n",
      "memory usage: 256.4+ KB\n"
     ]
    }
   ],
   "source": [
    "df2.info()"
   ]
  },
  {
   "cell_type": "code",
   "execution_count": 17,
   "metadata": {},
   "outputs": [
    {
     "data": {
      "text/plain": [
       "(8202, 4)"
      ]
     },
     "execution_count": 17,
     "metadata": {},
     "output_type": "execute_result"
    }
   ],
   "source": [
    "df2.shape"
   ]
  }
 ],
 "metadata": {
  "kernelspec": {
   "display_name": "Python 3",
   "language": "python",
   "name": "python3"
  },
  "language_info": {
   "codemirror_mode": {
    "name": "ipython",
    "version": 3
   },
   "file_extension": ".py",
   "mimetype": "text/x-python",
   "name": "python",
   "nbconvert_exporter": "python",
   "pygments_lexer": "ipython3",
   "version": "3.7.3"
  }
 },
 "nbformat": 4,
 "nbformat_minor": 2
}
