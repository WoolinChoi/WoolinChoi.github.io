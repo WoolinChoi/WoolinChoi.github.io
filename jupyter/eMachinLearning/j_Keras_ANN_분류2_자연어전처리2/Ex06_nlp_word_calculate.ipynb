{
 "cells": [
  {
   "cell_type": "code",
   "execution_count": 1,
   "metadata": {},
   "outputs": [
    {
     "name": "stderr",
     "output_type": "stream",
     "text": [
      "C:\\ProgramData\\Anaconda3\\lib\\site-packages\\gensim\\models\\base_any2vec.py:743: UserWarning: C extension not loaded, training will be slow. Install a C compiler and reinstall gensim for fast training.\n",
      "  \"C extension not loaded, training will be slow. \"\n",
      "C:\\ProgramData\\Anaconda3\\lib\\site-packages\\ipykernel_launcher.py:4: DeprecationWarning: Call to deprecated `most_similar` (Method will be removed in 4.0.0, use self.wv.most_similar() instead).\n",
      "  after removing the cwd from sys.path.\n"
     ]
    },
    {
     "name": "stdout",
     "output_type": "stream",
     "text": [
      "[('엄마', 0.8517739772796631), ('아저씨', 0.6820619106292725), ('어디가', 0.6796489953994751), ('친구', 0.6589521169662476), ('신혼', 0.6444262266159058), ('괴짜', 0.6426041126251221), ('할머니', 0.6371489763259888), ('아줌마', 0.6364408731460571), ('룸메이트', 0.6234321594238281), ('아내', 0.6198647618293762)]\n",
      "('엄마', 0.8517739772796631)\n"
     ]
    }
   ],
   "source": [
    "from gensim.models import word2vec\n",
    "model = word2vec.Word2Vec.load(\"w2v/wiki.model\")\n",
    "\n",
    "result = model.most_similar(positive=['아빠', '여성'], negative=['남성'])\n",
    "print(result)\n",
    "print(result[0])"
   ]
  },
  {
   "cell_type": "code",
   "execution_count": 2,
   "metadata": {},
   "outputs": [
    {
     "name": "stdout",
     "output_type": "stream",
     "text": [
      "[('도쿄', 0.6773518323898315), ('교토', 0.6354459524154663), ('오사카', 0.6219913363456726), ('서울특별시', 0.5624315142631531), ('후쿠오카', 0.5568024516105652), ('도쿄도', 0.5443399548530579), ('나고야', 0.5367218255996704), ('오사카부', 0.5236438512802124), ('홋카이도', 0.5192624926567078), ('요코하마', 0.5188096761703491)]\n",
      "('도쿄', 0.6773518323898315)\n"
     ]
    },
    {
     "name": "stderr",
     "output_type": "stream",
     "text": [
      "C:\\ProgramData\\Anaconda3\\lib\\site-packages\\ipykernel_launcher.py:1: DeprecationWarning: Call to deprecated `most_similar` (Method will be removed in 4.0.0, use self.wv.most_similar() instead).\n",
      "  \"\"\"Entry point for launching an IPython kernel.\n"
     ]
    }
   ],
   "source": [
    "result = model.most_similar(positive=['서울', '일본'], negative=['한국'])\n",
    "print(result)\n",
    "print(result[0])"
   ]
  },
  {
   "cell_type": "code",
   "execution_count": 11,
   "metadata": {},
   "outputs": [
    {
     "name": "stdout",
     "output_type": "stream",
     "text": [
      "[('베이징', 0.6821848154067993), ('북경', 0.6481270790100098), ('절강성', 0.6373119354248047), ('상하이', 0.6292018890380859), ('봉천', 0.620449960231781), ('산동성', 0.613395094871521), ('北京', 0.6115888357162476), ('광동성', 0.6005773544311523), ('충칭', 0.5980311632156372), ('산동', 0.5958592891693115)]\n",
      "('베이징', 0.6821848154067993)\n"
     ]
    },
    {
     "name": "stderr",
     "output_type": "stream",
     "text": [
      "C:\\ProgramData\\Anaconda3\\lib\\site-packages\\ipykernel_launcher.py:1: DeprecationWarning: Call to deprecated `most_similar` (Method will be removed in 4.0.0, use self.wv.most_similar() instead).\n",
      "  \"\"\"Entry point for launching an IPython kernel.\n"
     ]
    }
   ],
   "source": [
    "result = model.most_similar(positive=['서울', '중국'], negative=['한국'])\n",
    "print(result)\n",
    "print(result[0])"
   ]
  },
  {
   "cell_type": "code",
   "execution_count": 4,
   "metadata": {},
   "outputs": [
    {
     "name": "stdout",
     "output_type": "stream",
     "text": [
      "[('여성', 0.8100539445877075), ('남성은', 0.7397207617759705), ('이성애자', 0.6900902390480042), ('동성애자', 0.6210698485374451), ('성행위', 0.6059176921844482), ('성전환자', 0.601394772529602), ('남녀', 0.6008456945419312), ('성별', 0.5884498953819275), ('성교', 0.5846046805381775), ('체위', 0.5823924541473389)]\n",
      "('여성', 0.8100539445877075)\n"
     ]
    },
    {
     "name": "stderr",
     "output_type": "stream",
     "text": [
      "C:\\ProgramData\\Anaconda3\\lib\\site-packages\\ipykernel_launcher.py:1: DeprecationWarning: Call to deprecated `most_similar` (Method will be removed in 4.0.0, use self.wv.most_similar() instead).\n",
      "  \"\"\"Entry point for launching an IPython kernel.\n"
     ]
    }
   ],
   "source": [
    "result = model.most_similar(positive=['오른쪽', '남성'], negative=['왼쪽'])\n",
    "print(result)\n",
    "print(result[0])"
   ]
  },
  {
   "cell_type": "code",
   "execution_count": 5,
   "metadata": {},
   "outputs": [
    {
     "name": "stdout",
     "output_type": "stream",
     "text": [
      "[('강남', 0.6851245164871216), ('인사동', 0.640274167060852), ('서울특별시', 0.6207906603813171), ('연희동', 0.6170412302017212), ('압구정동', 0.6069209575653076), ('서울시', 0.6068366765975952), ('부산', 0.6065454483032227), ('춘천', 0.602898895740509), ('명동', 0.5961471796035767), ('노량진', 0.5898141860961914)]\n",
      "('강남', 0.6851245164871216)\n"
     ]
    },
    {
     "name": "stderr",
     "output_type": "stream",
     "text": [
      "C:\\ProgramData\\Anaconda3\\lib\\site-packages\\ipykernel_launcher.py:1: DeprecationWarning: Call to deprecated `most_similar` (Method will be removed in 4.0.0, use self.wv.most_similar() instead).\n",
      "  \"\"\"Entry point for launching an IPython kernel.\n"
     ]
    }
   ],
   "source": [
    "result = model.most_similar(positive=['서울', '맛집'])\n",
    "print(result)\n",
    "print(result[0])"
   ]
  },
  {
   "cell_type": "code",
   "execution_count": 6,
   "metadata": {},
   "outputs": [
    {
     "name": "stdout",
     "output_type": "stream",
     "text": [
      "[('강호동', 0.9053046107292175), ('노홍철', 0.9049279093742371), ('정형돈', 0.8809185028076172), ('이수근', 0.8799095153808594), ('이경규', 0.8598675727844238), ('신봉선', 0.8534579277038574), ('지상렬', 0.8530737161636353), ('정준하', 0.8520801663398743), ('지석진', 0.8510478734970093), ('김구라', 0.8491339683532715)]\n",
      "('강호동', 0.9053046107292175)\n"
     ]
    },
    {
     "name": "stderr",
     "output_type": "stream",
     "text": [
      "C:\\ProgramData\\Anaconda3\\lib\\site-packages\\ipykernel_launcher.py:1: DeprecationWarning: Call to deprecated `most_similar` (Method will be removed in 4.0.0, use self.wv.most_similar() instead).\n",
      "  \"\"\"Entry point for launching an IPython kernel.\n"
     ]
    }
   ],
   "source": [
    "result = model.most_similar(positive=['유재석'])\n",
    "print(result)\n",
    "print(result[0])"
   ]
  },
  {
   "cell_type": "code",
   "execution_count": 7,
   "metadata": {},
   "outputs": [
    {
     "name": "stdout",
     "output_type": "stream",
     "text": [
      "[('오른쪽', 0.9183344841003418), ('좌측', 0.7857764363288879), ('우측', 0.7650136947631836), ('손목', 0.7534607648849487), ('허벅지', 0.7514766454696655), ('앞쪽', 0.7449272274971008), ('위쪽', 0.7324659824371338), ('뒤쪽', 0.7259665727615356), ('대퇴부', 0.7240923643112183), ('아래쪽', 0.7239497900009155)]\n",
      "('오른쪽', 0.9183344841003418)\n"
     ]
    },
    {
     "name": "stderr",
     "output_type": "stream",
     "text": [
      "C:\\ProgramData\\Anaconda3\\lib\\site-packages\\ipykernel_launcher.py:1: DeprecationWarning: Call to deprecated `most_similar` (Method will be removed in 4.0.0, use self.wv.most_similar() instead).\n",
      "  \"\"\"Entry point for launching an IPython kernel.\n"
     ]
    }
   ],
   "source": [
    "result = model.most_similar(positive=['왼쪽'])\n",
    "print(result)\n",
    "print(result[0])"
   ]
  },
  {
   "cell_type": "code",
   "execution_count": 8,
   "metadata": {},
   "outputs": [
    {
     "name": "stdout",
     "output_type": "stream",
     "text": [
      "[('남학생', 0.8129751086235046), ('여자애', 0.7142136693000793), ('여고생', 0.6996532678604126), ('여자아이', 0.6985729932785034), ('상급생', 0.6893160939216614), ('급우', 0.6871634721755981), ('고교생', 0.6615390777587891), ('어른', 0.6553459763526917), ('고등학생', 0.6476296186447144), ('모범생', 0.6419638395309448)]\n",
      "('남학생', 0.8129751086235046)\n"
     ]
    },
    {
     "name": "stderr",
     "output_type": "stream",
     "text": [
      "C:\\ProgramData\\Anaconda3\\lib\\site-packages\\ipykernel_launcher.py:1: DeprecationWarning: Call to deprecated `most_similar` (Method will be removed in 4.0.0, use self.wv.most_similar() instead).\n",
      "  \"\"\"Entry point for launching an IPython kernel.\n"
     ]
    }
   ],
   "source": [
    "result = model.most_similar(positive=['여학생', '남자'], negative=['여자'])\n",
    "print(result)\n",
    "print(result[0])"
   ]
  },
  {
   "cell_type": "code",
   "execution_count": 9,
   "metadata": {},
   "outputs": [
    {
     "name": "stdout",
     "output_type": "stream",
     "text": [
      "[('하이킹', 0.5993179678916931), ('등반', 0.5537090301513672), ('다이빙', 0.5491321682929993), ('조깅', 0.5384238958358765), ('산행', 0.5373741984367371), ('야영', 0.5335506200790405), ('트레킹', 0.5220581889152527), ('마식령', 0.5176158547401428), ('달리기', 0.511148989200592), ('스케이트', 0.5099186897277832)]\n",
      "('하이킹', 0.5993179678916931)\n"
     ]
    },
    {
     "name": "stderr",
     "output_type": "stream",
     "text": [
      "C:\\ProgramData\\Anaconda3\\lib\\site-packages\\ipykernel_launcher.py:1: DeprecationWarning: Call to deprecated `most_similar` (Method will be removed in 4.0.0, use self.wv.most_similar() instead).\n",
      "  \"\"\"Entry point for launching an IPython kernel.\n"
     ]
    }
   ],
   "source": [
    "result = model.most_similar(positive=['걷기', '수영'], negative=['여자'])\n",
    "print(result)\n",
    "print(result[0])"
   ]
  },
  {
   "cell_type": "code",
   "execution_count": 10,
   "metadata": {},
   "outputs": [
    {
     "name": "stdout",
     "output_type": "stream",
     "text": [
      "[('노홍철', 0.9051183462142944), ('이수근', 0.8977089524269104), ('정형돈', 0.8859302997589111), ('이경규', 0.8830526471138), ('김구라', 0.8811988830566406), ('유세윤', 0.8705310821533203), ('지상렬', 0.8694090843200684), ('신봉선', 0.8653041124343872), ('전현무', 0.8633769750595093), ('정준하', 0.8626004457473755)]\n",
      "('노홍철', 0.9051183462142944)\n"
     ]
    },
    {
     "name": "stderr",
     "output_type": "stream",
     "text": [
      "C:\\ProgramData\\Anaconda3\\lib\\site-packages\\ipykernel_launcher.py:1: DeprecationWarning: Call to deprecated `most_similar` (Method will be removed in 4.0.0, use self.wv.most_similar() instead).\n",
      "  \"\"\"Entry point for launching an IPython kernel.\n"
     ]
    }
   ],
   "source": [
    "result = model.most_similar(positive=['유재석', '강호동'])\n",
    "print(result)\n",
    "print(result[0])"
   ]
  }
 ],
 "metadata": {
  "kernelspec": {
   "display_name": "Python 3",
   "language": "python",
   "name": "python3"
  },
  "language_info": {
   "codemirror_mode": {
    "name": "ipython",
    "version": 3
   },
   "file_extension": ".py",
   "mimetype": "text/x-python",
   "name": "python",
   "nbconvert_exporter": "python",
   "pygments_lexer": "ipython3",
   "version": "3.7.3"
  }
 },
 "nbformat": 4,
 "nbformat_minor": 4
}
