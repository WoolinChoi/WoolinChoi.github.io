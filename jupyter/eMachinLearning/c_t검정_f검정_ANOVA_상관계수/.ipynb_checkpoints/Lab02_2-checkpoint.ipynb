{
 "cells": [
  {
   "cell_type": "code",
   "execution_count": 14,
   "metadata": {},
   "outputs": [
    {
     "name": "stdout",
     "output_type": "stream",
     "text": [
      "1.0\n"
     ]
    },
    {
     "name": "stderr",
     "output_type": "stream",
     "text": [
      "A:\\Python\\Anaconda3.5\\lib\\site-packages\\ipykernel_launcher.py:8: SettingWithCopyWarning: \n",
      "A value is trying to be set on a copy of a slice from a DataFrame.\n",
      "Try using .loc[row_indexer,col_indexer] = value instead\n",
      "\n",
      "See the caveats in the documentation: http://pandas.pydata.org/pandas-docs/stable/indexing.html#indexing-view-versus-copy\n",
      "  \n",
      "A:\\Python\\Anaconda3.5\\lib\\site-packages\\sklearn\\preprocessing\\data.py:334: DataConversionWarning: Data with input dtype int64, float64 were all converted to float64 by MinMaxScaler.\n",
      "  return self.partial_fit(X, y)\n"
     ]
    }
   ],
   "source": [
    "import pandas as pd\n",
    "from sklearn.model_selection import train_test_split\n",
    "from sklearn.linear_model import LinearRegression\n",
    "from sklearn.preprocessing import  MinMaxScaler\n",
    "\n",
    "tmp = pd.read_excel('지역_위치별(주유소).xls')\n",
    "data = tmp[tmp['고급휘발유'] != '-']  # 고급휘발유 데이터가 ' ' 인 행을 제외\n",
    "data['고급휘발유'] = [float(value1) for value1 in data['고급휘발유']]\n",
    "\n",
    "data1 = scaler.fit_transform(data.loc[:, ['휘발유', '경유', '고급휘발유']])\n",
    " \n",
    "price_data = data1[:, [0, 2]]\n",
    "price_label =data1[:, 2:3]  \n",
    "\n",
    "train_data, test_data, train_label,test_label = \\\n",
    "  train_test_split(price_data, price_label)\n",
    " \n",
    "clf = LinearRegression()\n",
    "clf.fit(price_data, price_label)  # 힉습 \n",
    "# pre = clf.predict(test_data)  # 예측\n",
    " \n",
    "print(clf.score(test_data, test_label))  # 회귀 성능 평가"
   ]
  }
 ],
 "metadata": {
  "kernelspec": {
   "display_name": "Python 3",
   "language": "python",
   "name": "python3"
  },
  "language_info": {
   "codemirror_mode": {
    "name": "ipython",
    "version": 3
   },
   "file_extension": ".py",
   "mimetype": "text/x-python",
   "name": "python",
   "nbconvert_exporter": "python",
   "pygments_lexer": "ipython3",
   "version": "3.7.3"
  }
 },
 "nbformat": 4,
 "nbformat_minor": 2
}
