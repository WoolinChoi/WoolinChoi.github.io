{
 "cells": [
  {
   "cell_type": "code",
   "execution_count": 1,
   "metadata": {},
   "outputs": [
    {
     "name": "stderr",
     "output_type": "stream",
     "text": [
      "C:\\ProgramData\\Anaconda3\\lib\\site-packages\\jpype\\_core.py:210: UserWarning: \n",
      "-------------------------------------------------------------------------------\n",
      "Deprecated: convertStrings was not specified when starting the JVM. The default\n",
      "behavior in JPype will be False starting in JPype 0.8. The recommended setting\n",
      "for new code is convertStrings=False.  The legacy value of True was assumed for\n",
      "this session. If you are a user of an application that reported this warning,\n",
      "please file a ticket with the developer.\n",
      "-------------------------------------------------------------------------------\n",
      "\n",
      "  \"\"\")\n"
     ]
    }
   ],
   "source": [
    "from konlpy.tag import Okt\n",
    "\n",
    "readFp = open(\"a.txt\", \"r\", encoding=\"utf-8\")\n",
    "wakati_file = \"a.m\"\n",
    "\n",
    "writeFp = open(wakati_file, \"w\", encoding=\"utf-8\")\n",
    "\n",
    "# 형태소 분석\n",
    "twitter = Okt()\n",
    "i = 0\n",
    "\n",
    "while True:\n",
    "    line = readFp.readline()\n",
    "    if not line: break\n",
    "\n",
    "    # if i % 100 == 0:\n",
    "    #     print(\"current - \" + str(i)) # 100라인에 한번씩 출력\n",
    "    # i += 1\n",
    "\n",
    "    malist = twitter.pos(line, norm=True, stem=True)\n",
    "\n",
    "    for word in malist:\n",
    "                   # 조사/어미/구두점 등은 대상에서 제외\n",
    "        if not word[1] in [\"Josa\", \"Eomi\", \"Punctuation\"]:\n",
    "            writeFp.write(word[0] + \" \")\n",
    "        # if word[1] in [\"Noun\"]:\n",
    "        #     writeFp.write(word[0] + \" \")\n",
    "\n",
    "writeFp.close() "
   ]
  }
 ],
 "metadata": {
  "kernelspec": {
   "display_name": "Python 3",
   "language": "python",
   "name": "python3"
  },
  "language_info": {
   "codemirror_mode": {
    "name": "ipython",
    "version": 3
   },
   "file_extension": ".py",
   "mimetype": "text/x-python",
   "name": "python",
   "nbconvert_exporter": "python",
   "pygments_lexer": "ipython3",
   "version": "3.7.3"
  }
 },
 "nbformat": 4,
 "nbformat_minor": 4
}
