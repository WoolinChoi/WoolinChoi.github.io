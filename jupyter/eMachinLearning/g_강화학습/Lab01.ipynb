{
 "cells": [
  {
   "cell_type": "code",
   "execution_count": 1,
   "metadata": {},
   "outputs": [
    {
     "name": "stdout",
     "output_type": "stream",
     "text": [
      "+---------+\n",
      "|R: | : :\u001b[35mG\u001b[0m|\n",
      "| : : : : |\n",
      "|\u001b[43m \u001b[0m: : : : |\n",
      "| | : | : |\n",
      "|Y| : |\u001b[34;1mB\u001b[0m: |\n",
      "+---------+\n",
      "\n",
      "Episode 0 Total Reward: -524\n",
      "Episode 50 Total Reward: -43\n",
      "Episode 100 Total Reward: -137\n",
      "Episode 150 Total Reward: -29\n",
      "Episode 200 Total Reward: 11\n",
      "Episode 250 Total Reward: 13\n",
      "Episode 300 Total Reward: 7\n",
      "Episode 350 Total Reward: 0\n",
      "Episode 400 Total Reward: 9\n",
      "Episode 450 Total Reward: 7\n",
      "Episode 500 Total Reward: 2\n",
      "Episode 550 Total Reward: 7\n",
      "Episode 600 Total Reward: 8\n",
      "Episode 650 Total Reward: 12\n",
      "Episode 700 Total Reward: 11\n",
      "Episode 750 Total Reward: 11\n",
      "Episode 800 Total Reward: 10\n",
      "Episode 850 Total Reward: 7\n",
      "Episode 900 Total Reward: 7\n",
      "Episode 950 Total Reward: 7\n"
     ]
    },
    {
     "data": {
      "image/png": "[encoded data removed]",
      "text/plain": [
       "<Figure size 432x288 with 1 Axes>"
      ]
     },
     "metadata": {
      "needs_background": "light"
     },
     "output_type": "display_data"
    }
   ],
   "source": [
    "import gym\n",
    "import numpy as np\n",
    "\n",
    "env = gym.make(\"Taxi-v2\")\n",
    "Q = np.zeros([env.observation_space.n, env.action_space.n])\n",
    "G = 0\n",
    "dis = 0.618\n",
    "env.render()\n",
    "rList =[]\n",
    "for episode in range(1000 ):\n",
    "    done = False\n",
    "    G, reward = 0, 0\n",
    "    state = env.reset()\n",
    "    # print(state)\n",
    "\n",
    "    while done != True:\n",
    "        action = np.argmax(Q[state])\n",
    "        state2, reward, done, info = env.step(action)\n",
    "        # Q[state, action] += dis * (reward + np.max(Q[state2]) - Q[state, action])\n",
    "        Q[state, action]  = dis * (reward + np.max(Q[state2])  )\n",
    "\n",
    "        # print(action, state2, reward )\n",
    "        G += reward\n",
    "        state = state2\n",
    "        # env.render()\n",
    " \n",
    "    rList.append(G)\n",
    "\n",
    "    if episode % 50 == 0:\n",
    "        print('Episode {} Total Reward: {}'.format(episode, G))\n",
    "\n",
    "import matplotlib.pyplot as plt\n",
    "%matplotlib inline\n",
    "\n",
    "plt.bar(range(len(rList)), rList, color='b', alpha=0.4)\n",
    "plt.ylim(-200,50)\n",
    "plt.show()"
   ]
  }
 ],
 "metadata": {
  "kernelspec": {
   "display_name": "Python 3",
   "language": "python",
   "name": "python3"
  },
  "language_info": {
   "codemirror_mode": {
    "name": "ipython",
    "version": 3
   },
   "file_extension": ".py",
   "mimetype": "text/x-python",
   "name": "python",
   "nbconvert_exporter": "python",
   "pygments_lexer": "ipython3",
   "version": "3.7.3"
  }
 },
 "nbformat": 4,
 "nbformat_minor": 4
}
