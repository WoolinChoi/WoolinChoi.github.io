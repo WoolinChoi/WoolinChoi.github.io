{
 "cells": [
  {
   "cell_type": "code",
   "execution_count": 1,
   "metadata": {},
   "outputs": [
    {
     "name": "stderr",
     "output_type": "stream",
     "text": [
      "Using TensorFlow backend.\n"
     ]
    },
    {
     "name": "stdout",
     "output_type": "stream",
     "text": [
      "60000 28 28\n",
      "WARNING:tensorflow:From C:\\ProgramData\\Anaconda3\\lib\\site-packages\\keras\\backend\\tensorflow_backend.py:422: The name tf.global_variables is deprecated. Please use tf.compat.v1.global_variables instead.\n",
      "\n",
      "Train on 48000 samples, validate on 12000 samples\n",
      "Epoch 1/15\n",
      "48000/48000 [==============================] - 2s 52us/step - loss: 0.3974 - accuracy: 0.8909 - val_loss: 0.2204 - val_accuracy: 0.9385\n",
      "Epoch 2/15\n",
      "48000/48000 [==============================] - 2s 38us/step - loss: 0.1935 - accuracy: 0.9448 - val_loss: 0.1650 - val_accuracy: 0.9553\n",
      "Epoch 3/15\n",
      "48000/48000 [==============================] - 2s 33us/step - loss: 0.1439 - accuracy: 0.9589 - val_loss: 0.1380 - val_accuracy: 0.9603\n",
      "Epoch 4/15\n",
      "48000/48000 [==============================] - 1s 30us/step - loss: 0.1123 - accuracy: 0.9679 - val_loss: 0.1274 - val_accuracy: 0.9634\n",
      "Epoch 5/15\n",
      "48000/48000 [==============================] - 2s 37us/step - loss: 0.0913 - accuracy: 0.9739 - val_loss: 0.1087 - val_accuracy: 0.9679\n",
      "Epoch 6/15\n",
      "48000/48000 [==============================] - 2s 36us/step - loss: 0.0776 - accuracy: 0.9774 - val_loss: 0.1030 - val_accuracy: 0.9698\n",
      "Epoch 7/15\n",
      "48000/48000 [==============================] - 1s 29us/step - loss: 0.0635 - accuracy: 0.9826 - val_loss: 0.0984 - val_accuracy: 0.9702\n",
      "Epoch 8/15\n",
      "48000/48000 [==============================] - 2s 32us/step - loss: 0.0559 - accuracy: 0.9840 - val_loss: 0.0998 - val_accuracy: 0.9707\n",
      "Epoch 9/15\n",
      "48000/48000 [==============================] - 2s 34us/step - loss: 0.0485 - accuracy: 0.9864 - val_loss: 0.0924 - val_accuracy: 0.9732\n",
      "Epoch 10/15\n",
      "48000/48000 [==============================] - 2s 35us/step - loss: 0.0419 - accuracy: 0.9882 - val_loss: 0.0889 - val_accuracy: 0.9736\n",
      "Epoch 11/15\n",
      "48000/48000 [==============================] - 2s 37us/step - loss: 0.0349 - accuracy: 0.9909 - val_loss: 0.0860 - val_accuracy: 0.9744\n",
      "Epoch 12/15\n",
      "48000/48000 [==============================] - 2s 35us/step - loss: 0.0312 - accuracy: 0.9918 - val_loss: 0.0927 - val_accuracy: 0.9733\n",
      "Epoch 13/15\n",
      "48000/48000 [==============================] - 3s 57us/step - loss: 0.0264 - accuracy: 0.9932 - val_loss: 0.0875 - val_accuracy: 0.9743\n",
      "Epoch 14/15\n",
      "48000/48000 [==============================] - 2s 33us/step - loss: 0.0225 - accuracy: 0.9944 - val_loss: 0.0871 - val_accuracy: 0.9752\n",
      "Epoch 15/15\n",
      "48000/48000 [==============================] - 2s 43us/step - loss: 0.0190 - accuracy: 0.9959 - val_loss: 0.0903 - val_accuracy: 0.9739\n",
      "10000/10000 [==============================] - 0s 36us/step\n",
      "Test Loss and Accuracy -> [0.08693698253729963, 0.9731000065803528]\n"
     ]
    },
    {
     "data": {
      "image/png": "[encoded data removed]",
      "text/plain": [
       "<Figure size 432x288 with 1 Axes>"
      ]
     },
     "metadata": {
      "needs_background": "light"
     },
     "output_type": "display_data"
    },
    {
     "data": {
      "image/png": "[encoded data removed]",
      "text/plain": [
       "<Figure size 432x288 with 1 Axes>"
      ]
     },
     "metadata": {
      "needs_background": "light"
     },
     "output_type": "display_data"
    }
   ],
   "source": [
    "##############################################\n",
    "# Modeling\n",
    "##############################################\n",
    "from keras import layers, models\n",
    " \n",
    "def ANN_seq_func(Nin, Nh, Nout):\n",
    "    # Keras 모델 시작\n",
    "    model = models.Sequential()\n",
    "    \n",
    "    # 입력 계층 노드 수 Nin 개, 은닉 계층의 노드 수 Nh 개, 활성함수는 relu\n",
    "    model.add(layers.Dense(Nh, activation='relu', input_shape=(Nin, )))\n",
    "    \n",
    "    # 출력 노드 수 Nout 개, 활성함수는 softmax (다중 분류문제이므로)\n",
    "    model.add(layers.Dense(Nout, activation='softmax'))\n",
    "    \n",
    "    \"\"\"\n",
    "    오차(비용) 함수는 categorical_crossentropy, <--(활성함수를 softmax를 사용함으로)\n",
    "    최적화 함수는 adam 을 사용. SGD(확률적경사하강법) 써도 됨 \n",
    "    Classification Performance metrics(분류 성능 척도) 는 'accuracy'\n",
    "    \"\"\"\n",
    "    model.compile(loss='categorical_crossentropy', optimizer='adam', metrics=['accuracy']) \n",
    "\n",
    "    return model\n",
    "\n",
    "##############################################\n",
    "# Data\n",
    "##############################################\n",
    "from keras import datasets  # mnist\n",
    "from keras.utils import np_utils  # to_categorical\n",
    "\n",
    "def Data_func():\n",
    "    \"\"\" \n",
    "    이미지 데이터 X ,  0~9까지 붙인 이름표를 Y   \n",
    "    70,000개의 데이터 중 60,000개를 학습 데이터로,  \n",
    "    10,000개를 테스트 데이터로 읽어옵니다. \n",
    "    \"\"\"\n",
    "    (X_train, y_train), (X_test, y_test) = datasets.mnist.load_data()\n",
    "    \n",
    "    import matplotlib.pyplot as plt\n",
    "    %matplotlib inline\n",
    "    plt.imshow(X_train[0:1].reshape(28, 28))\n",
    "    plt.show\n",
    "    \n",
    "    \"\"\"\n",
    "    원-핫 인코딩을 위해 케라스의 np_utils 의 to_categorical() 함수를 사용\n",
    "    0 ~ 9까지의 정수 값을 갖는 형태가 아닌 0 이나 1로 이뤄진 벡터로 수정 \n",
    "    만약에 '3' 이라는 숫자이라면 [0, 0, 1, 0, 0, 0, 0, 0, 0]으로 변환 \n",
    "    \"\"\"\n",
    "    Y_train = np_utils.to_categorical(y_train)\n",
    "    Y_test = np_utils.to_categorical(y_test)\n",
    "\n",
    "    L, W, H = X_train.shape \n",
    "    print(L, W, H)  # 6000 28 28 \n",
    "    \n",
    "    # 행 갯수는 상관없고, 열은 28*28(-> 784)로 reshape\n",
    "    X_train = X_train.reshape(-1, W * H)\n",
    "    X_test = X_test.reshape(-1, W * H)\n",
    "     \n",
    "    # 원래 데이터가 0~255 인데 0~1로  변환 (정규화)\n",
    "    X_train = X_train / 255.0\n",
    "    X_test = X_test / 255.0\n",
    "\n",
    "    return (X_train, Y_train), (X_test, Y_test)\n",
    "\n",
    "##############################################\n",
    "# Main   # 분류 ANN 학습 및 성능 분석 \n",
    "##############################################\n",
    "import matplotlib.pyplot as plt\n",
    "%matplotlib inline \n",
    "\n",
    "def main():\n",
    "    Nin = 784\n",
    "    Nh = 100\n",
    "    number_of_class = 10\n",
    "    Nout = number_of_class\n",
    "\n",
    "    model = ANN_seq_func(Nin, Nh, Nout)\n",
    "    (X_train, Y_train), (X_test, Y_test) = Data_func() \n",
    "\n",
    "    ##############################################\n",
    "    # Training\n",
    "    ##############################################\n",
    "    history = model.fit(X_train, Y_train, epochs=15, batch_size=100, validation_split=0.2)\n",
    "    \n",
    "    # 평가\n",
    "    performace_test = model.evaluate(X_test, Y_test, batch_size=100)\n",
    "    print('Test Loss and Accuracy ->', performace_test)\n",
    "    \n",
    "    # 정확도 변화 추이 그래프\n",
    "    history = history.history\n",
    "    plt.plot(history['accuracy'])\n",
    "    plt.plot(history['val_accuracy'])\n",
    "    plt.ylabel('Accuracy')\n",
    "    plt.xlabel('Epoch')\n",
    "    plt.legend(['Training', 'Verification'], loc=0)\n",
    "    plt.show()\n",
    "\n",
    "    # Cost/Loss  변화 추이  그래프\n",
    "    plt.plot(history['loss'])\n",
    "    plt.plot(history['val_loss'])\n",
    "    plt.ylabel('Loss')\n",
    "    plt.xlabel('Epoch')\n",
    "    plt.legend(['Training', 'Verification'], loc=0)\n",
    "    plt.show()\n",
    "\n",
    "if __name__ == '__main__':\n",
    "    main()"
   ]
  }
 ],
 "metadata": {
  "kernelspec": {
   "display_name": "Python 3",
   "language": "python",
   "name": "python3"
  },
  "language_info": {
   "codemirror_mode": {
    "name": "ipython",
    "version": 3
   },
   "file_extension": ".py",
   "mimetype": "text/x-python",
   "name": "python",
   "nbconvert_exporter": "python",
   "pygments_lexer": "ipython3",
   "version": "3.7.3"
  }
 },
 "nbformat": 4,
 "nbformat_minor": 2
}
