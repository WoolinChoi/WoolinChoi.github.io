{
 "cells": [
  {
   "cell_type": "code",
   "execution_count": 3,
   "metadata": {},
   "outputs": [
    {
     "name": "stderr",
     "output_type": "stream",
     "text": [
      "A:\\Python\\Anaconda3.5\\lib\\site-packages\\sklearn\\utils\\validation.py:595: DataConversionWarning: Data with input dtype int64 was converted to float64 by MinMaxScaler.\n",
      "  warnings.warn(msg, DataConversionWarning)\n"
     ]
    },
    {
     "name": "stdout",
     "output_type": "stream",
     "text": [
      "9,8,5,2,3시간 공부했을 때 예측 점수  [[90.55687 ]\n",
      " [83.81566 ]\n",
      " [63.59201 ]\n",
      " [43.36837 ]\n",
      " [50.109585]]\n"
     ]
    },
    {
     "data": {
      "image/png": "[encoded data removed]",
      "text/plain": [
       "<Figure size 432x288 with 1 Axes>"
      ]
     },
     "metadata": {
      "needs_background": "light"
     },
     "output_type": "display_data"
    }
   ],
   "source": [
    "##############################################\n",
    "# Modeling\n",
    "##############################################\n",
    "from keras import layers, models\n",
    "from sklearn import preprocessing\n",
    "import pandas as pd, numpy as np\n",
    "\n",
    "def ANN_seq_func(Nin, Nh, Nout):\n",
    "    # Keras 모델 시작\n",
    "    model = models.Sequential()\n",
    "    \n",
    "    # 입력 계층 노드 수 Nin 개,  은닉 계층의 노드 수 Nh 개, 활성함수는 relu\n",
    "    model.add(layers.Dense(Nout, input_shape=(Nin,)))\n",
    "    \n",
    "    # cost함수 - mse(평균 제곱 오차), 최적화 알고리즘 - SGD(확률적 경사하강법)\n",
    "    model.compile(loss='mse', optimizer='sgd')\n",
    "\n",
    "    return model\n",
    "\n",
    "##############################################\n",
    "# Data  학습과 평가용 데이터 불러오기\n",
    "##############################################\n",
    "import  numpy as np\n",
    "\n",
    "def Data_func():\n",
    "    jumsu = pd.read_csv(\"jumsu.csv\", header=0)\n",
    "    x_train = jumsu.iloc[:, 0]\n",
    "    y_train = jumsu.iloc[:, 1]\n",
    "\n",
    "    X_train = np.array(x_train)\n",
    "    X_train= X_train.reshape(-1, 1)  # 2차원 으로\n",
    "    Y_train = np.array(y_train)\n",
    "    Y_train = Y_train.reshape(-1, 1)  # 2차원 으로\n",
    "\n",
    "    scaler = preprocessing.MinMaxScaler()  # 데이터 정규화\n",
    "    X_train = scaler.fit_transform(X_train)\n",
    "\n",
    "    return (X_train, Y_train)\n",
    "\n",
    "##############################################\n",
    "import matplotlib.pyplot as plt\n",
    "%matplotlib inline\n",
    "##############################################\n",
    "# Main  회귀 ANN 학습 및 성능 분석\n",
    "##############################################\n",
    "def main():\n",
    "    Nin = 1\n",
    "    Nh = 5\n",
    "    Nout = 1\n",
    "    model = ANN_seq_func(Nin, Nh, Nout)\n",
    "    (X_train, y_train)  = Data_func()\n",
    "    history = model.fit(X_train, y_train, epochs=50, batch_size=5, \\\n",
    "                        validation_split=0.2, verbose=0)\n",
    "\n",
    "    scaler = preprocessing.MinMaxScaler()  # 데이터 정규화\n",
    "    X_train = scaler.fit_transform([[9], [8], [5], [2], [3]])\n",
    "    h = model.predict(X_train)\n",
    "    print(\"9, 8, 5, 2, 3시간 공부했을 때 예측 점수 \", h)\n",
    "\n",
    "    history = history.history\n",
    "\n",
    "    # Cost/Loss  변화 추이 그래프\n",
    "    plt.plot(history['loss'])\n",
    "    plt.plot(history['val_loss'])\n",
    "    plt.ylabel('Loss')\n",
    "    plt.xlabel('Epoch')\n",
    "    plt.legend(['Training', 'Verification'], loc=0)\n",
    "    plt.show()\n",
    "\n",
    "if __name__ == '__main__':\n",
    "    main()"
   ]
  },
  {
   "cell_type": "code",
   "execution_count": null,
   "metadata": {},
   "outputs": [],
   "source": []
  }
 ],
 "metadata": {
  "kernelspec": {
   "display_name": "Python 3",
   "language": "python",
   "name": "python3"
  },
  "language_info": {
   "codemirror_mode": {
    "name": "ipython",
    "version": 3
   },
   "file_extension": ".py",
   "mimetype": "text/x-python",
   "name": "python",
   "nbconvert_exporter": "python",
   "pygments_lexer": "ipython3",
   "version": "3.7.3"
  }
 },
 "nbformat": 4,
 "nbformat_minor": 2
}
