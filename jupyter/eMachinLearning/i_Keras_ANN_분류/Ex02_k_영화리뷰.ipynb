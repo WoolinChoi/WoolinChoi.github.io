{
 "cells": [
  {
   "cell_type": "code",
   "execution_count": 1,
   "metadata": {},
   "outputs": [
    {
     "name": "stderr",
     "output_type": "stream",
     "text": [
      "Using TensorFlow backend.\n"
     ]
    },
    {
     "name": "stdout",
     "output_type": "stream",
     "text": [
      "Downloading data from https://s3.amazonaws.com/text-datasets/imdb.npz\n",
      "17465344/17464789 [==============================] - 7s 0us/step\n",
      "Downloading data from https://s3.amazonaws.com/text-datasets/imdb_word_index.json\n",
      "1646592/1641221 [==============================] - 2s 1us/step\n",
      "? this film was just brilliant casting location scenery story direction everyone's really suited the part they played and you could just imagine being there robert ? is an amazing actor and now the same being director ? father came from the same scottish island as myself so i loved the fact there was a real connection with this film the witty remarks throughout the film were great it was just brilliant so much that i bought the film as soon as it was released for ? and would recommend it to everyone to watch and the fly fishing was amazing really cried at the end it was so sad and you know what they say if you cry at a film it must have been good and this definitely was also ? to the two little boy's that played the ? of norman and paul they were just brilliant children are often left out of the ? list i think because the stars that play them all grown up are such a big profile for the whole film but these children are amazing and should be praised for what they have done don't you think the whole story was so lovely because it was true and was someone's life after all that was shared with us all\n",
      "218\n",
      "189\n"
     ]
    }
   ],
   "source": [
    "\"\"\"\n",
    "인터넷 영화 데이터베이스로부터 가져온 양극단의 리뷰 50,000개로 이루어진 IMDB 데이터셋을 사용하겠습니다.\n",
    "이 데이터셋은 훈련 데이터 25,000개와 테스트 데이터 25,000개로 나뉘어 있고 \n",
    "각각 50%는 부정, 50%는 긍정 리뷰로 구성되어 있습니다.  \n",
    "MNIST 데이터셋처럼 IMDB 데이터셋도 케라스에 포함되어 있습니다. \n",
    "이 데이터는 전처리되어 있어 각 리뷰(단어 시퀀스)가 숫자 시퀀스로 변환되어 있습니다. \n",
    "여기서 각 숫자는 사전에 있는 고유한 단어를 나타냅니다.  \n",
    "\"\"\"\n",
    "from keras.datasets import imdb\n",
    "\n",
    "# 매개변수 `num_words=10000`은 훈련 데이터에서 가장 자주 나타나는 단어 10,000개만 사용하겠다는 의미\n",
    "(train_data, train_labels), (test_data, test_labels) = imdb.load_data(num_words=10000)\n",
    "# print(train_labels[0])\n",
    "\n",
    "\"\"\"\n",
    "리뷰 데이터 하나를 원래 영어 단어로 어떻게 바꾸는지 보겠습니다.\n",
    "word_index는 단어와 정수 인덱스를 매핑한 딕셔너리\n",
    "\"\"\"\n",
    "word_index = imdb.get_word_index()\n",
    "\n",
    "# 정수 인덱스와 단어를 매핑하도록 뒤집습니다\n",
    "reverse_word_index = dict([(value, key) for (key, value) in word_index.items()])\n",
    "\n",
    "\"\"\"\n",
    "리뷰를 디코딩합니다.\n",
    "0, 1, 2는 '패딩', '문서 시작', '사전에 없음'을 위한 인덱스이므로 3을 뺍니다.\n",
    "\"\"\"\n",
    "decoded_review = ' '.join([reverse_word_index.get(i - 3, '?') for i in train_data[0]])\n",
    "print(decoded_review)\n",
    "print(len(train_data[0])) # 218\n",
    "print(len(train_data[1])) # 189"
   ]
  },
  {
   "cell_type": "code",
   "execution_count": 2,
   "metadata": {},
   "outputs": [
    {
     "name": "stdout",
     "output_type": "stream",
     "text": [
      "(25000,)\n"
     ]
    }
   ],
   "source": [
    "import numpy as np\n",
    "\n",
    "# 원-핫인코딩\n",
    "def vectorize_sequences(sequences, dimension=10000):\n",
    "    # 크기가 (len(sequences), dimension))이고 모든 원소가 0인 행렬을 만듭니다.\n",
    "    results = np.zeros((len(sequences), dimension))\n",
    "    for i, sequence in enumerate(sequences):\n",
    "        results[i, sequence] = 1.  # results[i]에서 특정 인덱스의 위치를 1로 만듭니다.\n",
    "    return results\n",
    "\n",
    "\n",
    "# 훈련 데이터를 벡터로 변환합니다.\n",
    "x_train = vectorize_sequences(train_data)\n",
    "\n",
    "# 테스트 데이터를 벡터로 변환합니다.\n",
    "x_test = vectorize_sequences(test_data)\n",
    "\n",
    "# 레이블을 벡터로 바꿉니다.\n",
    "y_train = np.asarray(train_labels).astype('float32')\n",
    "y_test = np.asarray(test_labels).astype('float32')\n",
    "\n",
    "print(y_train.shape) # (25000,)"
   ]
  },
  {
   "cell_type": "code",
   "execution_count": 3,
   "metadata": {},
   "outputs": [
    {
     "name": "stdout",
     "output_type": "stream",
     "text": [
      "WARNING:tensorflow:From C:\\ProgramData\\Anaconda3\\lib\\site-packages\\tensorflow\\python\\ops\\nn_impl.py:180: add_dispatch_support.<locals>.wrapper (from tensorflow.python.ops.array_ops) is deprecated and will be removed in a future version.\n",
      "Instructions for updating:\n",
      "Use tf.where in 2.0, which has the same broadcast rule as np.where\n",
      "WARNING:tensorflow:From C:\\ProgramData\\Anaconda3\\lib\\site-packages\\keras\\backend\\tensorflow_backend.py:422: The name tf.global_variables is deprecated. Please use tf.compat.v1.global_variables instead.\n",
      "\n",
      "Train on 15000 samples, validate on 10000 samples\n",
      "Epoch 1/20\n",
      "15000/15000 [==============================] - 3s 192us/step - loss: 0.5059 - accuracy: 0.7830 - val_loss: 0.3792 - val_accuracy: 0.8649\n",
      "Epoch 2/20\n",
      "15000/15000 [==============================] - 2s 162us/step - loss: 0.2992 - accuracy: 0.9023 - val_loss: 0.3536 - val_accuracy: 0.8517\n",
      "Epoch 3/20\n",
      "15000/15000 [==============================] - 2s 156us/step - loss: 0.2200 - accuracy: 0.9289 - val_loss: 0.2777 - val_accuracy: 0.8926\n",
      "Epoch 4/20\n",
      "15000/15000 [==============================] - 3s 171us/step - loss: 0.1732 - accuracy: 0.9428 - val_loss: 0.2748 - val_accuracy: 0.8910\n",
      "Epoch 5/20\n",
      "15000/15000 [==============================] - 2s 160us/step - loss: 0.1409 - accuracy: 0.9555 - val_loss: 0.2859 - val_accuracy: 0.8896\n",
      "Epoch 6/20\n",
      "15000/15000 [==============================] - 2s 154us/step - loss: 0.1152 - accuracy: 0.9651 - val_loss: 0.2975 - val_accuracy: 0.8847\n",
      "Epoch 7/20\n",
      "15000/15000 [==============================] - 2s 153us/step - loss: 0.0959 - accuracy: 0.9713 - val_loss: 0.3145 - val_accuracy: 0.8836\n",
      "Epoch 8/20\n",
      "15000/15000 [==============================] - 2s 152us/step - loss: 0.0800 - accuracy: 0.9761 - val_loss: 0.3551 - val_accuracy: 0.8756\n",
      "Epoch 9/20\n",
      "15000/15000 [==============================] - 2s 155us/step - loss: 0.0662 - accuracy: 0.9815 - val_loss: 0.3562 - val_accuracy: 0.8811\n",
      "Epoch 10/20\n",
      "15000/15000 [==============================] - 2s 154us/step - loss: 0.0546 - accuracy: 0.9860 - val_loss: 0.3956 - val_accuracy: 0.8733\n",
      "Epoch 11/20\n",
      "15000/15000 [==============================] - 2s 160us/step - loss: 0.0436 - accuracy: 0.9895 - val_loss: 0.4085 - val_accuracy: 0.8769\n",
      "Epoch 12/20\n",
      "15000/15000 [==============================] - 2s 161us/step - loss: 0.0349 - accuracy: 0.9937 - val_loss: 0.4545 - val_accuracy: 0.8696\n",
      "Epoch 13/20\n",
      "15000/15000 [==============================] - 2s 165us/step - loss: 0.0290 - accuracy: 0.9946 - val_loss: 0.4795 - val_accuracy: 0.8695\n",
      "Epoch 14/20\n",
      "15000/15000 [==============================] - 2s 160us/step - loss: 0.0242 - accuracy: 0.9959 - val_loss: 0.5057 - val_accuracy: 0.8713\n",
      "Epoch 15/20\n",
      "15000/15000 [==============================] - 2s 155us/step - loss: 0.0163 - accuracy: 0.9981 - val_loss: 0.5479 - val_accuracy: 0.8674\n",
      "Epoch 16/20\n",
      "15000/15000 [==============================] - 2s 163us/step - loss: 0.0134 - accuracy: 0.9985 - val_loss: 0.5738 - val_accuracy: 0.8696\n",
      "Epoch 17/20\n",
      "15000/15000 [==============================] - 2s 156us/step - loss: 0.0111 - accuracy: 0.9988 - val_loss: 0.6105 - val_accuracy: 0.8671\n",
      "Epoch 18/20\n",
      "15000/15000 [==============================] - 2s 159us/step - loss: 0.0112 - accuracy: 0.9978 - val_loss: 0.6440 - val_accuracy: 0.8669\n",
      "Epoch 19/20\n",
      "15000/15000 [==============================] - 2s 163us/step - loss: 0.0047 - accuracy: 0.9999 - val_loss: 0.6808 - val_accuracy: 0.8664\n",
      "Epoch 20/20\n",
      "15000/15000 [==============================] - 2s 155us/step - loss: 0.0091 - accuracy: 0.9977 - val_loss: 0.7197 - val_accuracy: 0.8651\n"
     ]
    }
   ],
   "source": [
    "from keras import models\n",
    "from keras import layers\n",
    "\n",
    "model = models.Sequential()\n",
    "model.add(layers.Dense(16, activation='relu', input_shape=(10000, )))\n",
    "model.add(layers.Dense(16, activation='relu'))\n",
    "model.add(layers.Dense(1, activation='sigmoid'))\n",
    "\n",
    "model.compile(optimizer='rmsprop', loss='binary_crossentropy', metrics=['accuracy'])\n",
    "\n",
    "x_val = x_train[:10000]\n",
    "partial_x_train = x_train[10000:]\n",
    "\n",
    "y_val = y_train[:10000]\n",
    "partial_y_train = y_train[10000:]\n",
    "\n",
    "history = model.fit(partial_x_train, partial_y_train, epochs=20, batch_size=512,\n",
    "                   validation_data=(x_val, y_val))"
   ]
  },
  {
   "cell_type": "code",
   "execution_count": 5,
   "metadata": {},
   "outputs": [
    {
     "data": {
      "image/png": "[encoded data removed]",
      "text/plain": [
       "<Figure size 432x288 with 1 Axes>"
      ]
     },
     "metadata": {
      "needs_background": "light"
     },
     "output_type": "display_data"
    },
    {
     "data": {
      "image/png": "[encoded data removed]",
      "text/plain": [
       "<Figure size 432x288 with 1 Axes>"
      ]
     },
     "metadata": {
      "needs_background": "light"
     },
     "output_type": "display_data"
    }
   ],
   "source": [
    "history_dict = history.history\n",
    "history_dict.keys()\n",
    "\n",
    "import matplotlib.pyplot as plt\n",
    "%matplotlib inline\n",
    "\n",
    "acc = history.history['accuracy']\n",
    "val_acc = history.history['val_accuracy']\n",
    "loss = history.history['loss']\n",
    "val_loss = history.history['val_loss']\n",
    "\n",
    "epochs = range(1, len(acc) + 1)\n",
    "plt.plot(epochs, loss, 'bo', label='Training loss')  # bo’는 파란색 점\n",
    "plt.plot(epochs, val_loss, 'b', label='Validation loss')  # b’는 파란색 실선\n",
    "plt.title('Training and validation loss')\n",
    "plt.xlabel('Epochs')\n",
    "plt.ylabel('Loss')\n",
    "plt.legend()\n",
    "plt.show()\n",
    "\n",
    "plt.clf()   # 그래프를 초기화\n",
    "acc = history_dict['accuracy']\n",
    "val_acc = history_dict['val_accuracy']\n",
    "plt.plot(epochs, acc, 'bo', label='Training acc')\n",
    "plt.plot(epochs, val_acc, 'b', label='Validation acc')\n",
    "plt.title('Training and validation accuracy')\n",
    "plt.xlabel('Epochs')\n",
    "plt.ylabel('Accuracy')\n",
    "plt.legend()\n",
    "plt.show()"
   ]
  }
 ],
 "metadata": {
  "kernelspec": {
   "display_name": "Python 3",
   "language": "python",
   "name": "python3"
  },
  "language_info": {
   "codemirror_mode": {
    "name": "ipython",
    "version": 3
   },
   "file_extension": ".py",
   "mimetype": "text/x-python",
   "name": "python",
   "nbconvert_exporter": "python",
   "pygments_lexer": "ipython3",
   "version": "3.7.3"
  }
 },
 "nbformat": 4,
 "nbformat_minor": 2
}
