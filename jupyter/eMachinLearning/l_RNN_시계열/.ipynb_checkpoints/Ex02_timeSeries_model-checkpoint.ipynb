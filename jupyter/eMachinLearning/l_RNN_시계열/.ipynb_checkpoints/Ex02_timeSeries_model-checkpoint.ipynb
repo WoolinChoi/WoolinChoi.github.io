{
 "cells": [
  {
   "cell_type": "code",
   "execution_count": 1,
   "metadata": {},
   "outputs": [
    {
     "name": "stderr",
     "output_type": "stream",
     "text": [
      "Using TensorFlow backend.\n"
     ]
    }
   ],
   "source": [
    "\"\"\"\n",
    "우선 가장 단순한 신경망 구조인 SimpleRNN 클래스를 사용하는 방법은 다음 코드와 같다.\n",
    "여기에서는 SimpleRNN 클래스 객체로 10개의 뉴런을 가지는 RNN 층을 만든다. \n",
    "첫번째 인수로는 뉴런의 크기, \n",
    "input_dim 인수로는 벡터의 크기, \n",
    "input_length 인수로는 순서열으 길이를 입력한다.\n",
    "그 다음으로 SimpleRNN 클래스 객체에서 나오는 10개의 출력값을 \n",
    "하나로 묶어 실수 값을 출력으로 만들기 위해 Dense 클래스 객체를 추가하였다.\n",
    "손실 함수로는 mean-squred-error를, 최적화 방법으로는 \n",
    "단순한 stochastic gradient descent 방법을 사용한다.\n",
    "\"\"\"\n",
    "\n",
    "from keras.models import Sequential\n",
    "from keras.layers import SimpleRNN, Dense\n",
    "\n",
    "def make_model() :\n",
    "    model = Sequential()\n",
    "    model.add(SimpleRNN(10, input_shape=(3, 1)))  # 3개의 시계열 데이터 입력 \n",
    "    model.add(Dense(1))  # activation=\"linear\"    # 1개의 출력 데이터\n",
    "    model.compile(loss='mse', optimizer='sgd')\n",
    "    model.summary()\n",
    "    return model"
   ]
  }
 ],
 "metadata": {
  "kernelspec": {
   "display_name": "Python 3",
   "language": "python",
   "name": "python3"
  },
  "language_info": {
   "codemirror_mode": {
    "name": "ipython",
    "version": 3
   },
   "file_extension": ".py",
   "mimetype": "text/x-python",
   "name": "python",
   "nbconvert_exporter": "python",
   "pygments_lexer": "ipython3",
   "version": "3.7.3"
  }
 },
 "nbformat": 4,
 "nbformat_minor": 2
}
