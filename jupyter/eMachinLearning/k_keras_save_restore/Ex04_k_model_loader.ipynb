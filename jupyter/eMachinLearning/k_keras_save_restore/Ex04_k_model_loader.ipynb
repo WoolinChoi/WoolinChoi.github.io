{
 "cells": [
  {
   "cell_type": "code",
   "execution_count": 4,
   "metadata": {},
   "outputs": [
    {
     "name": "stdout",
     "output_type": "stream",
     "text": [
      "Predictions: [1.0274782 2.983018  4.9385576 6.8940973 8.849637 ]\n"
     ]
    }
   ],
   "source": [
    "import numpy\n",
    "import keras\n",
    "\n",
    "x = numpy.array([0, 1, 2, 3, 4])\n",
    "\n",
    "model = load_model('model_1.h5')\n",
    "print('Predictions:', model.predict(x).flatten()) # 예측 결과"
   ]
  }
 ],
 "metadata": {
  "kernelspec": {
   "display_name": "Python 3",
   "language": "python",
   "name": "python3"
  },
  "language_info": {
   "codemirror_mode": {
    "name": "ipython",
    "version": 3
   },
   "file_extension": ".py",
   "mimetype": "text/x-python",
   "name": "python",
   "nbconvert_exporter": "python",
   "pygments_lexer": "ipython3",
   "version": "3.7.3"
  }
 },
 "nbformat": 4,
 "nbformat_minor": 2
}
