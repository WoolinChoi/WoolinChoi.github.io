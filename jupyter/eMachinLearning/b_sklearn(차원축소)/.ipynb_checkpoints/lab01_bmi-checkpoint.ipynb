{
 "cells": [
  {
   "cell_type": "code",
   "execution_count": 1,
   "metadata": {},
   "outputs": [
    {
     "name": "stderr",
     "output_type": "stream",
     "text": [
      "A:\\Python\\Anaconda3.5\\lib\\site-packages\\sklearn\\svm\\base.py:196: FutureWarning: The default value of gamma will change from 'auto' to 'scale' in version 0.22 to account better for unscaled features. Set gamma explicitly to 'auto' or 'scale' to avoid this warning.\n",
      "  \"avoid this warning.\", FutureWarning)\n"
     ]
    },
    {
     "name": "stdout",
     "output_type": "stream",
     "text": [
      "0.9824\n",
      "              precision    recall  f1-score   support\n",
      "\n",
      "         fat       1.00      0.98      0.99      1904\n",
      "      normal       0.96      0.98      0.97      1469\n",
      "        thin       0.99      0.98      0.99      1627\n",
      "\n",
      "   micro avg       0.98      0.98      0.98      5000\n",
      "   macro avg       0.98      0.98      0.98      5000\n",
      "weighted avg       0.98      0.98      0.98      5000\n",
      "\n"
     ]
    }
   ],
   "source": [
    "import pandas as pd\n",
    "from sklearn import svm, metrics\n",
    "from sklearn.model_selection import train_test_split\n",
    "\n",
    "data = pd.read_csv('bmi.csv')\n",
    "label = data['label']\n",
    "\n",
    "w = data['weight'] / 100\n",
    "h = data['height'] / 200\n",
    "wh = pd.concat([w, h], axis=1)\n",
    " \n",
    "data_train, data_test, label_train, label_test = \\\n",
    "  train_test_split(wh, label)\n",
    "\n",
    "clf = svm.SVC()\n",
    "clf.fit(data_train,label_train)\n",
    "\n",
    "pre = clf.predict(data_test)\n",
    "\n",
    "ac_score = metrics.accuracy_score(label_test,pre)\n",
    "cl_report = metrics.classification_report(label_test,pre)\n",
    "\n",
    "print(ac_score)\n",
    "print(cl_report)"
   ]
  }
 ],
 "metadata": {
  "kernelspec": {
   "display_name": "Python 3",
   "language": "python",
   "name": "python3"
  },
  "language_info": {
   "codemirror_mode": {
    "name": "ipython",
    "version": 3
   },
   "file_extension": ".py",
   "mimetype": "text/x-python",
   "name": "python",
   "nbconvert_exporter": "python",
   "pygments_lexer": "ipython3",
   "version": "3.7.3"
  }
 },
 "nbformat": 4,
 "nbformat_minor": 2
}
