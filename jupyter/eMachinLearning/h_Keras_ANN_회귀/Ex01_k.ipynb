{
 "cells": [
  {
   "cell_type": "code",
   "execution_count": 4,
   "metadata": {},
   "outputs": [
    {
     "name": "stdout",
     "output_type": "stream",
     "text": [
      "WARNING:tensorflow:From C:\\ProgramData\\Anaconda3\\lib\\site-packages\\keras\\backend\\tensorflow_backend.py:422: The name tf.global_variables is deprecated. Please use tf.compat.v1.global_variables instead.\n",
      "\n",
      "Targets: [5 7 9]\n",
      "Predictions: [4.974557 6.956146 8.937736]\n"
     ]
    }
   ],
   "source": [
    "import keras\n",
    "import numpy as np\n",
    "\n",
    "# 학습 데이터\n",
    "x = np.array([0, 1, 2, 3, 4])\n",
    "y = x * 2 + 1\n",
    "\n",
    "# Kears 모델 시작\n",
    "model = keras.models.Sequential()\n",
    "\n",
    "# 인공지능 계층을 하나 추가 (입력 노드 하나와 가중치 하나)\n",
    "model.add(keras.layers.Dense(1, input_shape=(1, )))\n",
    "\n",
    "# cost함수 - mse(평균 제곱 오차), 최적화 알고리즘 - SGD(확률적 경사하강법)\n",
    "model.compile('SGD', 'mse')\n",
    "\n",
    "# 지도 학습 (000 epochs - 학습횟수, verbose - 학습진행 사항, 0은 표시하지 않음)\n",
    "model.fit(x[:2], y[:2], epochs=1000, verbose=0)\n",
    "\n",
    "print('Targets:', y[2:])    # 실제 결과\n",
    "print('Predictions:', model.predict(x[2:]).flatten())"
   ]
  }
 ],
 "metadata": {
  "kernelspec": {
   "display_name": "Python 3",
   "language": "python",
   "name": "python3"
  },
  "language_info": {
   "codemirror_mode": {
    "name": "ipython",
    "version": 3
   },
   "file_extension": ".py",
   "mimetype": "text/x-python",
   "name": "python",
   "nbconvert_exporter": "python",
   "pygments_lexer": "ipython3",
   "version": "3.7.3"
  }
 },
 "nbformat": 4,
 "nbformat_minor": 2
}
