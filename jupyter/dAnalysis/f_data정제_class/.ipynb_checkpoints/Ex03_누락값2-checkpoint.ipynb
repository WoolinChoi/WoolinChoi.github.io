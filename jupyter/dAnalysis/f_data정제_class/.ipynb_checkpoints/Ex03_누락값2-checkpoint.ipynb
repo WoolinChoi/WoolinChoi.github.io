{
 "cells": [
  {
   "cell_type": "markdown",
   "metadata": {},
   "source": [
    "## [ 연습 ] 누락값처리"
   ]
  },
  {
   "cell_type": "code",
   "execution_count": 1,
   "metadata": {
    "scrolled": false
   },
   "outputs": [
    {
     "data": {
      "text/html": [
       "<div>\n",
       "<style scoped>\n",
       "    .dataframe tbody tr th:only-of-type {\n",
       "        vertical-align: middle;\n",
       "    }\n",
       "\n",
       "    .dataframe tbody tr th {\n",
       "        vertical-align: top;\n",
       "    }\n",
       "\n",
       "    .dataframe thead th {\n",
       "        text-align: right;\n",
       "    }\n",
       "</style>\n",
       "<table border=\"1\" class=\"dataframe\">\n",
       "  <thead>\n",
       "    <tr style=\"text-align: right;\">\n",
       "      <th></th>\n",
       "      <th>가수</th>\n",
       "      <th>곡명</th>\n",
       "      <th>좋아요</th>\n",
       "    </tr>\n",
       "  </thead>\n",
       "  <tbody>\n",
       "    <tr>\n",
       "      <th>0</th>\n",
       "      <td>방탄소년단</td>\n",
       "      <td>IDOL</td>\n",
       "      <td>166128.0</td>\n",
       "    </tr>\n",
       "    <tr>\n",
       "      <th>1</th>\n",
       "      <td>선미</td>\n",
       "      <td>사이렌</td>\n",
       "      <td>80982.0</td>\n",
       "    </tr>\n",
       "    <tr>\n",
       "      <th>2</th>\n",
       "      <td>방탄소년단</td>\n",
       "      <td>I'm Fine</td>\n",
       "      <td>127021.0</td>\n",
       "    </tr>\n",
       "    <tr>\n",
       "      <th>3</th>\n",
       "      <td>벤</td>\n",
       "      <td>열애중</td>\n",
       "      <td>NaN</td>\n",
       "    </tr>\n",
       "    <tr>\n",
       "      <th>4</th>\n",
       "      <td>레드벨벳</td>\n",
       "      <td>뚜루뚜루</td>\n",
       "      <td>190526.0</td>\n",
       "    </tr>\n",
       "  </tbody>\n",
       "</table>\n",
       "</div>"
      ],
      "text/plain": [
       "      가수        곡명       좋아요\n",
       "0  방탄소년단      IDOL  166128.0\n",
       "1     선미       사이렌   80982.0\n",
       "2  방탄소년단  I'm Fine  127021.0\n",
       "3      벤       열애중       NaN\n",
       "4   레드벨벳      뚜루뚜루  190526.0"
      ]
     },
     "execution_count": 1,
     "metadata": {},
     "output_type": "execute_result"
    }
   ],
   "source": [
    "import pandas as pd\n",
    "\n",
    "df = pd.read_csv('data/nan_sample.csv', encoding='utf-8')\n",
    "df"
   ]
  },
  {
   "cell_type": "code",
   "execution_count": 2,
   "metadata": {},
   "outputs": [
    {
     "data": {
      "text/plain": [
       "141164.25"
      ]
     },
     "execution_count": 2,
     "metadata": {},
     "output_type": "execute_result"
    }
   ],
   "source": [
    "# 좋아요의 평균값을 구하고자 한다면? 141164.25\n",
    "df['좋아요'].mean()"
   ]
  },
  {
   "cell_type": "code",
   "execution_count": 3,
   "metadata": {},
   "outputs": [
    {
     "data": {
      "text/plain": [
       "112931.4"
      ]
     },
     "execution_count": 3,
     "metadata": {},
     "output_type": "execute_result"
    }
   ],
   "source": [
    "df['좋아요'].sum() / 5    # 112931.4"
   ]
  },
  {
   "cell_type": "code",
   "execution_count": 4,
   "metadata": {},
   "outputs": [
    {
     "data": {
      "text/plain": [
       "141164.25"
      ]
     },
     "execution_count": 4,
     "metadata": {},
     "output_type": "execute_result"
    }
   ],
   "source": [
    "df['좋아요'].sum() / 4    # 141164.25"
   ]
  },
  {
   "cell_type": "markdown",
   "metadata": {},
   "source": [
    "### 누락값(NaN)을 처리"
   ]
  },
  {
   "cell_type": "code",
   "execution_count": 5,
   "metadata": {},
   "outputs": [
    {
     "data": {
      "text/html": [
       "<div>\n",
       "<style scoped>\n",
       "    .dataframe tbody tr th:only-of-type {\n",
       "        vertical-align: middle;\n",
       "    }\n",
       "\n",
       "    .dataframe tbody tr th {\n",
       "        vertical-align: top;\n",
       "    }\n",
       "\n",
       "    .dataframe thead th {\n",
       "        text-align: right;\n",
       "    }\n",
       "</style>\n",
       "<table border=\"1\" class=\"dataframe\">\n",
       "  <thead>\n",
       "    <tr style=\"text-align: right;\">\n",
       "      <th></th>\n",
       "      <th>가수</th>\n",
       "      <th>곡명</th>\n",
       "      <th>좋아요</th>\n",
       "    </tr>\n",
       "  </thead>\n",
       "  <tbody>\n",
       "    <tr>\n",
       "      <th>0</th>\n",
       "      <td>방탄소년단</td>\n",
       "      <td>IDOL</td>\n",
       "      <td>166128.0</td>\n",
       "    </tr>\n",
       "    <tr>\n",
       "      <th>1</th>\n",
       "      <td>선미</td>\n",
       "      <td>사이렌</td>\n",
       "      <td>80982.0</td>\n",
       "    </tr>\n",
       "    <tr>\n",
       "      <th>2</th>\n",
       "      <td>방탄소년단</td>\n",
       "      <td>I'm Fine</td>\n",
       "      <td>127021.0</td>\n",
       "    </tr>\n",
       "    <tr>\n",
       "      <th>3</th>\n",
       "      <td>벤</td>\n",
       "      <td>열애중</td>\n",
       "      <td>0.0</td>\n",
       "    </tr>\n",
       "    <tr>\n",
       "      <th>4</th>\n",
       "      <td>레드벨벳</td>\n",
       "      <td>뚜루뚜루</td>\n",
       "      <td>190526.0</td>\n",
       "    </tr>\n",
       "  </tbody>\n",
       "</table>\n",
       "</div>"
      ],
      "text/plain": [
       "      가수        곡명       좋아요\n",
       "0  방탄소년단      IDOL  166128.0\n",
       "1     선미       사이렌   80982.0\n",
       "2  방탄소년단  I'm Fine  127021.0\n",
       "3      벤       열애중       0.0\n",
       "4   레드벨벳      뚜루뚜루  190526.0"
      ]
     },
     "execution_count": 5,
     "metadata": {},
     "output_type": "execute_result"
    }
   ],
   "source": [
    "df.fillna(0)"
   ]
  },
  {
   "cell_type": "markdown",
   "metadata": {},
   "source": [
    "## 데이타가 많은 경우 NaN 확인하는 방법 - missngno\n",
    "https://github.com/ResidentMario/missingno\n",
    "- 라이브러리 설치 (Anaconda Prompt 관리자 권한으로 실행)\n",
    "> conda install missingno (안됨)\n",
    "> pip install missingno (됨)\n",
    "- Jupyter에서 바로 실행\n",
    "> !pip install missingno"
   ]
  },
  {
   "cell_type": "code",
   "execution_count": 6,
   "metadata": {
    "scrolled": true
   },
   "outputs": [
    {
     "name": "stdout",
     "output_type": "stream",
     "text": [
      "Requirement already satisfied: missingno in c:\\programdata\\anaconda3\\lib\\site-packages (0.4.2)\n",
      "Requirement already satisfied: scipy in c:\\programdata\\anaconda3\\lib\\site-packages (from missingno) (1.2.1)\n",
      "Requirement already satisfied: matplotlib in c:\\programdata\\anaconda3\\lib\\site-packages (from missingno) (3.1.0)\n",
      "Requirement already satisfied: seaborn in c:\\programdata\\anaconda3\\lib\\site-packages (from missingno) (0.9.0)\n",
      "Requirement already satisfied: numpy in c:\\programdata\\anaconda3\\lib\\site-packages (from missingno) (1.16.4)\n",
      "Requirement already satisfied: cycler>=0.10 in c:\\programdata\\anaconda3\\lib\\site-packages (from matplotlib->missingno) (0.10.0)\n",
      "Requirement already satisfied: kiwisolver>=1.0.1 in c:\\programdata\\anaconda3\\lib\\site-packages (from matplotlib->missingno) (1.1.0)\n",
      "Requirement already satisfied: pyparsing!=2.0.4,!=2.1.2,!=2.1.6,>=2.0.1 in c:\\programdata\\anaconda3\\lib\\site-packages (from matplotlib->missingno) (2.4.0)\n",
      "Requirement already satisfied: python-dateutil>=2.1 in c:\\programdata\\anaconda3\\lib\\site-packages (from matplotlib->missingno) (2.8.0)\n",
      "Requirement already satisfied: pandas>=0.15.2 in c:\\programdata\\anaconda3\\lib\\site-packages (from seaborn->missingno) (0.24.2)\n",
      "Requirement already satisfied: six in c:\\programdata\\anaconda3\\lib\\site-packages (from cycler>=0.10->matplotlib->missingno) (1.12.0)\n",
      "Requirement already satisfied: setuptools in c:\\programdata\\anaconda3\\lib\\site-packages (from kiwisolver>=1.0.1->matplotlib->missingno) (41.0.1)\n",
      "Requirement already satisfied: pytz>=2011k in c:\\programdata\\anaconda3\\lib\\site-packages (from pandas>=0.15.2->seaborn->missingno) (2019.1)\n"
     ]
    }
   ],
   "source": [
    "!pip install missingno"
   ]
  },
  {
   "cell_type": "code",
   "execution_count": 7,
   "metadata": {},
   "outputs": [
    {
     "data": {
      "text/html": [
       "<div>\n",
       "<style scoped>\n",
       "    .dataframe tbody tr th:only-of-type {\n",
       "        vertical-align: middle;\n",
       "    }\n",
       "\n",
       "    .dataframe tbody tr th {\n",
       "        vertical-align: top;\n",
       "    }\n",
       "\n",
       "    .dataframe thead th {\n",
       "        text-align: right;\n",
       "    }\n",
       "</style>\n",
       "<table border=\"1\" class=\"dataframe\">\n",
       "  <thead>\n",
       "    <tr style=\"text-align: right;\">\n",
       "      <th></th>\n",
       "      <th>0</th>\n",
       "      <th>1</th>\n",
       "      <th>2</th>\n",
       "      <th>3</th>\n",
       "      <th>4</th>\n",
       "      <th>5</th>\n",
       "      <th>6</th>\n",
       "      <th>7</th>\n",
       "      <th>8</th>\n",
       "      <th>9</th>\n",
       "      <th>...</th>\n",
       "      <th>90</th>\n",
       "      <th>91</th>\n",
       "      <th>92</th>\n",
       "      <th>93</th>\n",
       "      <th>94</th>\n",
       "      <th>95</th>\n",
       "      <th>96</th>\n",
       "      <th>97</th>\n",
       "      <th>98</th>\n",
       "      <th>99</th>\n",
       "    </tr>\n",
       "  </thead>\n",
       "  <tbody>\n",
       "    <tr>\n",
       "      <th>0</th>\n",
       "      <td>0.466102</td>\n",
       "      <td>1.768948</td>\n",
       "      <td>1.150376</td>\n",
       "      <td>-0.888657</td>\n",
       "      <td>-1.309846</td>\n",
       "      <td>-0.477349</td>\n",
       "      <td>-1.246903</td>\n",
       "      <td>-0.275955</td>\n",
       "      <td>-0.275386</td>\n",
       "      <td>0.320181</td>\n",
       "      <td>...</td>\n",
       "      <td>0.058125</td>\n",
       "      <td>1.429350</td>\n",
       "      <td>-0.128136</td>\n",
       "      <td>1.032640</td>\n",
       "      <td>0.600488</td>\n",
       "      <td>-0.482509</td>\n",
       "      <td>1.510841</td>\n",
       "      <td>0.279229</td>\n",
       "      <td>1.270479</td>\n",
       "      <td>-0.863061</td>\n",
       "    </tr>\n",
       "    <tr>\n",
       "      <th>1</th>\n",
       "      <td>-1.432732</td>\n",
       "      <td>-0.367470</td>\n",
       "      <td>-1.586118</td>\n",
       "      <td>0.988887</td>\n",
       "      <td>1.227280</td>\n",
       "      <td>0.826006</td>\n",
       "      <td>0.660348</td>\n",
       "      <td>-0.526737</td>\n",
       "      <td>2.241585</td>\n",
       "      <td>-0.749824</td>\n",
       "      <td>...</td>\n",
       "      <td>0.533073</td>\n",
       "      <td>-0.595456</td>\n",
       "      <td>1.430702</td>\n",
       "      <td>0.271410</td>\n",
       "      <td>1.131445</td>\n",
       "      <td>0.368230</td>\n",
       "      <td>1.859862</td>\n",
       "      <td>0.907289</td>\n",
       "      <td>-0.361168</td>\n",
       "      <td>0.491594</td>\n",
       "    </tr>\n",
       "    <tr>\n",
       "      <th>2</th>\n",
       "      <td>1.248695</td>\n",
       "      <td>-1.080181</td>\n",
       "      <td>0.225503</td>\n",
       "      <td>-0.119642</td>\n",
       "      <td>0.023828</td>\n",
       "      <td>0.492074</td>\n",
       "      <td>-0.193032</td>\n",
       "      <td>-0.553450</td>\n",
       "      <td>1.074107</td>\n",
       "      <td>-0.992820</td>\n",
       "      <td>...</td>\n",
       "      <td>0.475210</td>\n",
       "      <td>0.398009</td>\n",
       "      <td>0.071408</td>\n",
       "      <td>-1.902823</td>\n",
       "      <td>0.067755</td>\n",
       "      <td>-0.024363</td>\n",
       "      <td>-1.180149</td>\n",
       "      <td>-0.074667</td>\n",
       "      <td>0.945951</td>\n",
       "      <td>1.978356</td>\n",
       "    </tr>\n",
       "    <tr>\n",
       "      <th>3</th>\n",
       "      <td>-0.505221</td>\n",
       "      <td>-1.094380</td>\n",
       "      <td>0.532964</td>\n",
       "      <td>-1.381179</td>\n",
       "      <td>-0.442091</td>\n",
       "      <td>-0.451576</td>\n",
       "      <td>-0.573013</td>\n",
       "      <td>0.013726</td>\n",
       "      <td>-1.998896</td>\n",
       "      <td>0.377940</td>\n",
       "      <td>...</td>\n",
       "      <td>0.525363</td>\n",
       "      <td>0.354368</td>\n",
       "      <td>1.684128</td>\n",
       "      <td>0.579671</td>\n",
       "      <td>0.710863</td>\n",
       "      <td>-0.074592</td>\n",
       "      <td>-1.049733</td>\n",
       "      <td>0.332807</td>\n",
       "      <td>-0.152303</td>\n",
       "      <td>0.291160</td>\n",
       "    </tr>\n",
       "    <tr>\n",
       "      <th>4</th>\n",
       "      <td>-0.564762</td>\n",
       "      <td>-0.195199</td>\n",
       "      <td>-0.280088</td>\n",
       "      <td>-0.608901</td>\n",
       "      <td>0.375563</td>\n",
       "      <td>-0.880718</td>\n",
       "      <td>-0.348809</td>\n",
       "      <td>-0.464207</td>\n",
       "      <td>-1.534164</td>\n",
       "      <td>-0.263051</td>\n",
       "      <td>...</td>\n",
       "      <td>1.746612</td>\n",
       "      <td>1.465186</td>\n",
       "      <td>-1.326619</td>\n",
       "      <td>-0.987785</td>\n",
       "      <td>-0.149440</td>\n",
       "      <td>0.478711</td>\n",
       "      <td>0.871037</td>\n",
       "      <td>0.072439</td>\n",
       "      <td>0.565621</td>\n",
       "      <td>-0.807663</td>\n",
       "    </tr>\n",
       "  </tbody>\n",
       "</table>\n",
       "<p>5 rows × 100 columns</p>\n",
       "</div>"
      ],
      "text/plain": [
       "         0         1         2         3         4         5         6   \\\n",
       "0  0.466102  1.768948  1.150376 -0.888657 -1.309846 -0.477349 -1.246903   \n",
       "1 -1.432732 -0.367470 -1.586118  0.988887  1.227280  0.826006  0.660348   \n",
       "2  1.248695 -1.080181  0.225503 -0.119642  0.023828  0.492074 -0.193032   \n",
       "3 -0.505221 -1.094380  0.532964 -1.381179 -0.442091 -0.451576 -0.573013   \n",
       "4 -0.564762 -0.195199 -0.280088 -0.608901  0.375563 -0.880718 -0.348809   \n",
       "\n",
       "         7         8         9   ...        90        91        92        93  \\\n",
       "0 -0.275955 -0.275386  0.320181  ...  0.058125  1.429350 -0.128136  1.032640   \n",
       "1 -0.526737  2.241585 -0.749824  ...  0.533073 -0.595456  1.430702  0.271410   \n",
       "2 -0.553450  1.074107 -0.992820  ...  0.475210  0.398009  0.071408 -1.902823   \n",
       "3  0.013726 -1.998896  0.377940  ...  0.525363  0.354368  1.684128  0.579671   \n",
       "4 -0.464207 -1.534164 -0.263051  ...  1.746612  1.465186 -1.326619 -0.987785   \n",
       "\n",
       "         94        95        96        97        98        99  \n",
       "0  0.600488 -0.482509  1.510841  0.279229  1.270479 -0.863061  \n",
       "1  1.131445  0.368230  1.859862  0.907289 -0.361168  0.491594  \n",
       "2  0.067755 -0.024363 -1.180149 -0.074667  0.945951  1.978356  \n",
       "3  0.710863 -0.074592 -1.049733  0.332807 -0.152303  0.291160  \n",
       "4 -0.149440  0.478711  0.871037  0.072439  0.565621 -0.807663  \n",
       "\n",
       "[5 rows x 100 columns]"
      ]
     },
     "execution_count": 7,
     "metadata": {},
     "output_type": "execute_result"
    }
   ],
   "source": [
    "import numpy as np\n",
    "df = pd.DataFrame(np.random.randn(100, 100))\n",
    "df.head()"
   ]
  },
  {
   "cell_type": "code",
   "execution_count": 8,
   "metadata": {},
   "outputs": [
    {
     "data": {
      "text/html": [
       "<div>\n",
       "<style scoped>\n",
       "    .dataframe tbody tr th:only-of-type {\n",
       "        vertical-align: middle;\n",
       "    }\n",
       "\n",
       "    .dataframe tbody tr th {\n",
       "        vertical-align: top;\n",
       "    }\n",
       "\n",
       "    .dataframe thead th {\n",
       "        text-align: right;\n",
       "    }\n",
       "</style>\n",
       "<table border=\"1\" class=\"dataframe\">\n",
       "  <thead>\n",
       "    <tr style=\"text-align: right;\">\n",
       "      <th></th>\n",
       "      <th>0</th>\n",
       "      <th>1</th>\n",
       "      <th>2</th>\n",
       "      <th>3</th>\n",
       "      <th>4</th>\n",
       "      <th>5</th>\n",
       "      <th>6</th>\n",
       "      <th>7</th>\n",
       "      <th>8</th>\n",
       "      <th>9</th>\n",
       "      <th>...</th>\n",
       "      <th>90</th>\n",
       "      <th>91</th>\n",
       "      <th>92</th>\n",
       "      <th>93</th>\n",
       "      <th>94</th>\n",
       "      <th>95</th>\n",
       "      <th>96</th>\n",
       "      <th>97</th>\n",
       "      <th>98</th>\n",
       "      <th>99</th>\n",
       "    </tr>\n",
       "  </thead>\n",
       "  <tbody>\n",
       "    <tr>\n",
       "      <th>0</th>\n",
       "      <td>0.466102</td>\n",
       "      <td>1.768948</td>\n",
       "      <td>1.150376</td>\n",
       "      <td>NaN</td>\n",
       "      <td>NaN</td>\n",
       "      <td>NaN</td>\n",
       "      <td>NaN</td>\n",
       "      <td>NaN</td>\n",
       "      <td>NaN</td>\n",
       "      <td>0.320181</td>\n",
       "      <td>...</td>\n",
       "      <td>NaN</td>\n",
       "      <td>1.429350</td>\n",
       "      <td>NaN</td>\n",
       "      <td>1.032640</td>\n",
       "      <td>0.600488</td>\n",
       "      <td>NaN</td>\n",
       "      <td>1.510841</td>\n",
       "      <td>NaN</td>\n",
       "      <td>1.270479</td>\n",
       "      <td>NaN</td>\n",
       "    </tr>\n",
       "    <tr>\n",
       "      <th>1</th>\n",
       "      <td>NaN</td>\n",
       "      <td>NaN</td>\n",
       "      <td>NaN</td>\n",
       "      <td>0.988887</td>\n",
       "      <td>1.227280</td>\n",
       "      <td>0.826006</td>\n",
       "      <td>0.660348</td>\n",
       "      <td>NaN</td>\n",
       "      <td>2.241585</td>\n",
       "      <td>NaN</td>\n",
       "      <td>...</td>\n",
       "      <td>0.533073</td>\n",
       "      <td>NaN</td>\n",
       "      <td>1.430702</td>\n",
       "      <td>NaN</td>\n",
       "      <td>1.131445</td>\n",
       "      <td>0.368230</td>\n",
       "      <td>1.859862</td>\n",
       "      <td>0.907289</td>\n",
       "      <td>NaN</td>\n",
       "      <td>0.491594</td>\n",
       "    </tr>\n",
       "    <tr>\n",
       "      <th>2</th>\n",
       "      <td>1.248695</td>\n",
       "      <td>NaN</td>\n",
       "      <td>NaN</td>\n",
       "      <td>NaN</td>\n",
       "      <td>NaN</td>\n",
       "      <td>0.492074</td>\n",
       "      <td>NaN</td>\n",
       "      <td>NaN</td>\n",
       "      <td>1.074107</td>\n",
       "      <td>NaN</td>\n",
       "      <td>...</td>\n",
       "      <td>0.475210</td>\n",
       "      <td>0.398009</td>\n",
       "      <td>NaN</td>\n",
       "      <td>NaN</td>\n",
       "      <td>NaN</td>\n",
       "      <td>NaN</td>\n",
       "      <td>NaN</td>\n",
       "      <td>NaN</td>\n",
       "      <td>0.945951</td>\n",
       "      <td>1.978356</td>\n",
       "    </tr>\n",
       "    <tr>\n",
       "      <th>3</th>\n",
       "      <td>NaN</td>\n",
       "      <td>NaN</td>\n",
       "      <td>0.532964</td>\n",
       "      <td>NaN</td>\n",
       "      <td>NaN</td>\n",
       "      <td>NaN</td>\n",
       "      <td>NaN</td>\n",
       "      <td>NaN</td>\n",
       "      <td>NaN</td>\n",
       "      <td>0.377940</td>\n",
       "      <td>...</td>\n",
       "      <td>0.525363</td>\n",
       "      <td>0.354368</td>\n",
       "      <td>1.684128</td>\n",
       "      <td>0.579671</td>\n",
       "      <td>0.710863</td>\n",
       "      <td>NaN</td>\n",
       "      <td>NaN</td>\n",
       "      <td>0.332807</td>\n",
       "      <td>NaN</td>\n",
       "      <td>NaN</td>\n",
       "    </tr>\n",
       "    <tr>\n",
       "      <th>4</th>\n",
       "      <td>NaN</td>\n",
       "      <td>NaN</td>\n",
       "      <td>NaN</td>\n",
       "      <td>NaN</td>\n",
       "      <td>0.375563</td>\n",
       "      <td>NaN</td>\n",
       "      <td>NaN</td>\n",
       "      <td>NaN</td>\n",
       "      <td>NaN</td>\n",
       "      <td>NaN</td>\n",
       "      <td>...</td>\n",
       "      <td>1.746612</td>\n",
       "      <td>1.465186</td>\n",
       "      <td>NaN</td>\n",
       "      <td>NaN</td>\n",
       "      <td>NaN</td>\n",
       "      <td>0.478711</td>\n",
       "      <td>0.871037</td>\n",
       "      <td>NaN</td>\n",
       "      <td>0.565621</td>\n",
       "      <td>NaN</td>\n",
       "    </tr>\n",
       "  </tbody>\n",
       "</table>\n",
       "<p>5 rows × 100 columns</p>\n",
       "</div>"
      ],
      "text/plain": [
       "         0         1         2         3         4         5         6   7   \\\n",
       "0  0.466102  1.768948  1.150376       NaN       NaN       NaN       NaN NaN   \n",
       "1       NaN       NaN       NaN  0.988887  1.227280  0.826006  0.660348 NaN   \n",
       "2  1.248695       NaN       NaN       NaN       NaN  0.492074       NaN NaN   \n",
       "3       NaN       NaN  0.532964       NaN       NaN       NaN       NaN NaN   \n",
       "4       NaN       NaN       NaN       NaN  0.375563       NaN       NaN NaN   \n",
       "\n",
       "         8         9   ...        90        91        92        93        94  \\\n",
       "0       NaN  0.320181  ...       NaN  1.429350       NaN  1.032640  0.600488   \n",
       "1  2.241585       NaN  ...  0.533073       NaN  1.430702       NaN  1.131445   \n",
       "2  1.074107       NaN  ...  0.475210  0.398009       NaN       NaN       NaN   \n",
       "3       NaN  0.377940  ...  0.525363  0.354368  1.684128  0.579671  0.710863   \n",
       "4       NaN       NaN  ...  1.746612  1.465186       NaN       NaN       NaN   \n",
       "\n",
       "         95        96        97        98        99  \n",
       "0       NaN  1.510841       NaN  1.270479       NaN  \n",
       "1  0.368230  1.859862  0.907289       NaN  0.491594  \n",
       "2       NaN       NaN       NaN  0.945951  1.978356  \n",
       "3       NaN       NaN  0.332807       NaN       NaN  \n",
       "4  0.478711  0.871037       NaN  0.565621       NaN  \n",
       "\n",
       "[5 rows x 100 columns]"
      ]
     },
     "execution_count": 8,
     "metadata": {},
     "output_type": "execute_result"
    }
   ],
   "source": [
    "df = df[df > 0.3]\n",
    "df.head()"
   ]
  },
  {
   "cell_type": "code",
   "execution_count": 9,
   "metadata": {},
   "outputs": [
    {
     "data": {
      "text/plain": [
       "<matplotlib.axes._subplots.AxesSubplot at 0x2d4190f66a0>"
      ]
     },
     "execution_count": 9,
     "metadata": {},
     "output_type": "execute_result"
    },
    {
     "data": {
      "image/png": "[encoded data removed]",
      "text/plain": [
       "<Figure size 1800x720 with 2 Axes>"
      ]
     },
     "metadata": {
      "needs_background": "light"
     },
     "output_type": "display_data"
    }
   ],
   "source": [
    "%matplotlib inline\n",
    "import missingno as msno\n",
    "msno.matrix(df)"
   ]
  },
  {
   "cell_type": "code",
   "execution_count": 10,
   "metadata": {},
   "outputs": [
    {
     "data": {
      "text/plain": [
       "(100, 100)"
      ]
     },
     "execution_count": 10,
     "metadata": {},
     "output_type": "execute_result"
    }
   ],
   "source": [
    "df.shape"
   ]
  },
  {
   "cell_type": "code",
   "execution_count": 11,
   "metadata": {},
   "outputs": [
    {
     "data": {
      "text/plain": [
       "(0, 100)"
      ]
     },
     "execution_count": 11,
     "metadata": {},
     "output_type": "execute_result"
    }
   ],
   "source": [
    "df2 = df.dropna()\n",
    "df2.shape"
   ]
  }
 ],
 "metadata": {
  "kernelspec": {
   "display_name": "Python 3",
   "language": "python",
   "name": "python3"
  },
  "language_info": {
   "codemirror_mode": {
    "name": "ipython",
    "version": 3
   },
   "file_extension": ".py",
   "mimetype": "text/x-python",
   "name": "python",
   "nbconvert_exporter": "python",
   "pygments_lexer": "ipython3",
   "version": "3.7.3"
  }
 },
 "nbformat": 4,
 "nbformat_minor": 2
}
