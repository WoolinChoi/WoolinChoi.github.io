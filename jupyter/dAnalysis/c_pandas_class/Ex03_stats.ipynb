{
 "cells": [
  {
   "cell_type": "markdown",
   "metadata": {},
   "source": [
    "### 통계함수\n",
    "\n",
    "+ count()\n",
    "+ sum()\n",
    "+ mean()\n",
    "+ std()\n",
    "+ var()\n",
    "+ min()\n",
    "+ max()\n",
    "+ cumsum()\n",
    "+ comprod()\n",
    "\n",
    "\n",
    "- discribe() : 요약통계량"
   ]
  },
  {
   "cell_type": "code",
   "execution_count": 1,
   "metadata": {},
   "outputs": [],
   "source": [
    "# pandas 기술 통계 확인\n",
    "from pandas import DataFrame\n",
    "\n",
    "df=DataFrame({'거래처':['A매장','B매장','C매장','A매장','C매장','C매장', 'C매장', 'C매장'],\n",
    "             '주문량':[100,25, 40, 55, 137, 70, 80, 89],\n",
    "             '할인율':[0.1, 0.3, 0.03, 0.07, 0.15, 0.2, 0.2, 0.2]})\n"
   ]
  },
  {
   "cell_type": "markdown",
   "metadata": {},
   "source": [
    "### [ 연습]\n",
    "\n",
    "1. 총합\n",
    "\n",
    "2. 평균\n",
    "\n",
    "3. 요약통계량\n",
    "\n",
    "4. 누적합\n",
    "\n",
    "5. 주문량 * 할인율\n",
    "\n",
    "6. 주문량만 누적합 구하기\n",
    "\n",
    "6. 거래처 수를 구하고 표로 출력"
   ]
  },
  {
   "cell_type": "code",
   "execution_count": 2,
   "metadata": {},
   "outputs": [
    {
     "data": {
      "text/plain": [
       "596"
      ]
     },
     "execution_count": 2,
     "metadata": {},
     "output_type": "execute_result"
    }
   ],
   "source": [
    "# 총합\n",
    "df['주문량'].sum()"
   ]
  },
  {
   "cell_type": "code",
   "execution_count": 3,
   "metadata": {},
   "outputs": [
    {
     "data": {
      "text/plain": [
       "74.5"
      ]
     },
     "execution_count": 3,
     "metadata": {},
     "output_type": "execute_result"
    }
   ],
   "source": [
    "# 평균\n",
    "df['주문량'].mean()"
   ]
  },
  {
   "cell_type": "code",
   "execution_count": 4,
   "metadata": {},
   "outputs": [
    {
     "data": {
      "text/plain": [
       "count      8.000000\n",
       "mean      74.500000\n",
       "std       35.532681\n",
       "min       25.000000\n",
       "25%       51.250000\n",
       "50%       75.000000\n",
       "75%       91.750000\n",
       "max      137.000000\n",
       "Name: 주문량, dtype: float64"
      ]
     },
     "execution_count": 4,
     "metadata": {},
     "output_type": "execute_result"
    }
   ],
   "source": [
    "# 요약통계량\n",
    "df['주문량'].describe()"
   ]
  },
  {
   "cell_type": "code",
   "execution_count": 5,
   "metadata": {},
   "outputs": [
    {
     "data": {
      "text/html": [
       "<div>\n",
       "<style scoped>\n",
       "    .dataframe tbody tr th:only-of-type {\n",
       "        vertical-align: middle;\n",
       "    }\n",
       "\n",
       "    .dataframe tbody tr th {\n",
       "        vertical-align: top;\n",
       "    }\n",
       "\n",
       "    .dataframe thead th {\n",
       "        text-align: right;\n",
       "    }\n",
       "</style>\n",
       "<table border=\"1\" class=\"dataframe\">\n",
       "  <thead>\n",
       "    <tr style=\"text-align: right;\">\n",
       "      <th></th>\n",
       "      <th>거래처</th>\n",
       "      <th>주문량</th>\n",
       "      <th>할인율</th>\n",
       "    </tr>\n",
       "  </thead>\n",
       "  <tbody>\n",
       "    <tr>\n",
       "      <th>0</th>\n",
       "      <td>A매장</td>\n",
       "      <td>100</td>\n",
       "      <td>0.1</td>\n",
       "    </tr>\n",
       "    <tr>\n",
       "      <th>1</th>\n",
       "      <td>A매장B매장</td>\n",
       "      <td>125</td>\n",
       "      <td>0.4</td>\n",
       "    </tr>\n",
       "    <tr>\n",
       "      <th>2</th>\n",
       "      <td>A매장B매장C매장</td>\n",
       "      <td>165</td>\n",
       "      <td>0.43</td>\n",
       "    </tr>\n",
       "    <tr>\n",
       "      <th>3</th>\n",
       "      <td>A매장B매장C매장A매장</td>\n",
       "      <td>220</td>\n",
       "      <td>0.5</td>\n",
       "    </tr>\n",
       "    <tr>\n",
       "      <th>4</th>\n",
       "      <td>A매장B매장C매장A매장C매장</td>\n",
       "      <td>357</td>\n",
       "      <td>0.65</td>\n",
       "    </tr>\n",
       "    <tr>\n",
       "      <th>5</th>\n",
       "      <td>A매장B매장C매장A매장C매장C매장</td>\n",
       "      <td>427</td>\n",
       "      <td>0.85</td>\n",
       "    </tr>\n",
       "    <tr>\n",
       "      <th>6</th>\n",
       "      <td>A매장B매장C매장A매장C매장C매장C매장</td>\n",
       "      <td>507</td>\n",
       "      <td>1.05</td>\n",
       "    </tr>\n",
       "    <tr>\n",
       "      <th>7</th>\n",
       "      <td>A매장B매장C매장A매장C매장C매장C매장C매장</td>\n",
       "      <td>596</td>\n",
       "      <td>1.25</td>\n",
       "    </tr>\n",
       "  </tbody>\n",
       "</table>\n",
       "</div>"
      ],
      "text/plain": [
       "                        거래처  주문량   할인율\n",
       "0                       A매장  100   0.1\n",
       "1                    A매장B매장  125   0.4\n",
       "2                 A매장B매장C매장  165  0.43\n",
       "3              A매장B매장C매장A매장  220   0.5\n",
       "4           A매장B매장C매장A매장C매장  357  0.65\n",
       "5        A매장B매장C매장A매장C매장C매장  427  0.85\n",
       "6     A매장B매장C매장A매장C매장C매장C매장  507  1.05\n",
       "7  A매장B매장C매장A매장C매장C매장C매장C매장  596  1.25"
      ]
     },
     "execution_count": 5,
     "metadata": {},
     "output_type": "execute_result"
    }
   ],
   "source": [
    "# 누적합\n",
    "df.cumsum()"
   ]
  },
  {
   "cell_type": "code",
   "execution_count": 6,
   "metadata": {},
   "outputs": [
    {
     "data": {
      "text/plain": [
       "93.125"
      ]
     },
     "execution_count": 6,
     "metadata": {},
     "output_type": "execute_result"
    }
   ],
   "source": [
    "df['주문량'].sum() * df['할인율'].mean()"
   ]
  },
  {
   "cell_type": "code",
   "execution_count": 7,
   "metadata": {},
   "outputs": [
    {
     "data": {
      "text/plain": [
       "0    100\n",
       "1    125\n",
       "2    165\n",
       "3    220\n",
       "4    357\n",
       "5    427\n",
       "6    507\n",
       "7    596\n",
       "Name: 주문량, dtype: int64"
      ]
     },
     "execution_count": 7,
     "metadata": {},
     "output_type": "execute_result"
    }
   ],
   "source": [
    "#주문량 누적합\n",
    "df['주문량'].cumsum()"
   ]
  },
  {
   "cell_type": "code",
   "execution_count": 8,
   "metadata": {},
   "outputs": [],
   "source": [
    "dd = df['거래처'].value_counts()"
   ]
  },
  {
   "cell_type": "code",
   "execution_count": 17,
   "metadata": {},
   "outputs": [
    {
     "data": {
      "text/plain": [
       "<matplotlib.axes._subplots.AxesSubplot at 0x166c540f8d0>"
      ]
     },
     "execution_count": 17,
     "metadata": {},
     "output_type": "execute_result"
    },
    {
     "data": {
      "image/png": "[encoded data removed]",
      "text/plain": [
       "<Figure size 432x288 with 1 Axes>"
      ]
     },
     "metadata": {},
     "output_type": "display_data"
    }
   ],
   "source": [
    "%matplotlib inline\n",
    "\n",
    "# 한글처리\n",
    "from matplotlib import rc\n",
    "rc('font', family='Malgun Gothic')\n",
    "\n",
    "# dd.plot(kind='bar') # 막대그래프\n",
    "dd.plot(kind='pie')"
   ]
  }
 ],
 "metadata": {
  "kernelspec": {
   "display_name": "Python 3",
   "language": "python",
   "name": "python3"
  },
  "language_info": {
   "codemirror_mode": {
    "name": "ipython",
    "version": 3
   },
   "file_extension": ".py",
   "mimetype": "text/x-python",
   "name": "python",
   "nbconvert_exporter": "python",
   "pygments_lexer": "ipython3",
   "version": "3.7.3"
  }
 },
 "nbformat": 4,
 "nbformat_minor": 2
}
